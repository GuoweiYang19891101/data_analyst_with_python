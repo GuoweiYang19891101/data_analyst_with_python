{
 "cells": [
  {
   "cell_type": "markdown",
   "source": [
    "The Nobel Prize has been among the most prestigious international awards since 1901. Each year, awards are bestowed in chemistry, literature, physics, physiology or medicine, economics, and peace. In addition to the honor, prestige, and substantial prize money, the recipient also gets a gold medal with an image of Alfred Nobel (1833 - 1896), who established the prize.\n",
    "\n",
    "![](Nobel_Prize.png)\n",
    "\n",
    "The Nobel Foundation has made a dataset available of all prize winners from the outset of the awards from 1901 to 2023. The dataset used in this project is from the Nobel Prize API and is available in the nobel.csv file in the data folder.\n",
    "\n",
    "In this project, you'll get a chance to explore and answer several questions related to this prizewinning data. And we encourage you then to explore further questions that you're interested in!"
   ],
   "metadata": {
    "collapsed": false
   },
   "id": "8e06b6169c5b7643"
  },
  {
   "cell_type": "code",
   "execution_count": 1,
   "outputs": [
    {
     "name": "stdout",
     "output_type": "stream",
     "text": [
      "   year    category                                           prize  \\\n",
      "0  1901   Chemistry               The Nobel Prize in Chemistry 1901   \n",
      "1  1901  Literature              The Nobel Prize in Literature 1901   \n",
      "2  1901    Medicine  The Nobel Prize in Physiology or Medicine 1901   \n",
      "3  1901       Peace                      The Nobel Peace Prize 1901   \n",
      "4  1901       Peace                      The Nobel Peace Prize 1901   \n",
      "\n",
      "                                          motivation prize_share  laureate_id  \\\n",
      "0  \"in recognition of the extraordinary services ...         1/1          160   \n",
      "1  \"in special recognition of his poetic composit...         1/1          569   \n",
      "2  \"for his work on serum therapy, especially its...         1/1          293   \n",
      "3                                                NaN         1/2          462   \n",
      "4                                                NaN         1/2          463   \n",
      "\n",
      "  laureate_type                     full_name  birth_date         birth_city  \\\n",
      "0    Individual  Jacobus Henricus van 't Hoff  1852-08-30          Rotterdam   \n",
      "1    Individual               Sully Prudhomme  1839-03-16              Paris   \n",
      "2    Individual        Emil Adolf von Behring  1854-03-15  Hansdorf (Lawice)   \n",
      "3    Individual             Jean Henry Dunant  1828-05-08             Geneva   \n",
      "4    Individual                Frédéric Passy  1822-05-20              Paris   \n",
      "\n",
      "      birth_country   sex   organization_name organization_city  \\\n",
      "0       Netherlands  Male   Berlin University            Berlin   \n",
      "1            France  Male                 NaN               NaN   \n",
      "2  Prussia (Poland)  Male  Marburg University           Marburg   \n",
      "3       Switzerland  Male                 NaN               NaN   \n",
      "4            France  Male                 NaN               NaN   \n",
      "\n",
      "  organization_country  death_date death_city death_country  \n",
      "0              Germany  1911-03-01     Berlin       Germany  \n",
      "1                  NaN  1907-09-07   Châtenay        France  \n",
      "2              Germany  1917-03-31    Marburg       Germany  \n",
      "3                  NaN  1910-10-30     Heiden   Switzerland  \n",
      "4                  NaN  1912-06-12      Paris        France  \n"
     ]
    }
   ],
   "source": [
    "# load libraries\n",
    "import pandas as pd\n",
    "import seaborn as sns\n",
    "import numpy as np\n",
    "\n",
    "# get the data\n",
    "nobel = pd.read_csv('nobel.csv')\n",
    "print(nobel.head())"
   ],
   "metadata": {
    "collapsed": false,
    "ExecuteTime": {
     "end_time": "2024-01-19T19:08:55.230346700Z",
     "start_time": "2024-01-19T19:08:54.805162200Z"
    }
   },
   "id": "9f25c8c932b95231"
  },
  {
   "cell_type": "code",
   "execution_count": 10,
   "outputs": [
    {
     "name": "stdout",
     "output_type": "stream",
     "text": [
      "Male\n",
      "United States of America\n"
     ]
    }
   ],
   "source": [
    "\n",
    "# 1. top_gender & top_country\n",
    "\n",
    "# top_gender\n",
    "top_gender = nobel['sex'].value_counts(ascending=False).index[0]\n",
    "print(top_gender)\n",
    "\n",
    "# top_country\n",
    "top_country = nobel['birth_country'].value_counts(ascending=False).index[0]\n",
    "print(top_country)"
   ],
   "metadata": {
    "collapsed": false,
    "ExecuteTime": {
     "end_time": "2024-01-19T19:10:35.760242200Z",
     "start_time": "2024-01-19T19:10:35.676332900Z"
    }
   },
   "id": "e12fc02f1f1b6b9c"
  },
  {
   "cell_type": "code",
   "execution_count": 3,
   "outputs": [
    {
     "name": "stdout",
     "output_type": "stream",
     "text": [
      "2000\n"
     ]
    }
   ],
   "source": [
    "# 2. max_decade_usa\n",
    "\n",
    "# add column 'decade'\n",
    "nobel['decade'] = nobel['year'] - (nobel['year'] % 10)\n",
    "# print(nobel[['decade', 'year']].tail())\n",
    "\n",
    "# calculate us-winners and total winners\n",
    "us_born_winners = nobel[nobel['birth_country'] == 'United States of America']\n",
    "us_born_winners_per_decade = us_born_winners.groupby('decade').size()\n",
    "total_winners_per_decade = nobel.groupby('decade').size()\n",
    "\n",
    "# get proportion\n",
    "proportion_us_winners_per_decade = us_born_winners_per_decade/ total_winners_per_decade.fillna(0)\n",
    "\n",
    "# get max decade\n",
    "max_decade_usa = proportion_us_winners_per_decade.idxmax()\n",
    "print(max_decade_usa)"
   ],
   "metadata": {
    "collapsed": false,
    "ExecuteTime": {
     "end_time": "2024-01-19T19:08:55.232340800Z",
     "start_time": "2024-01-19T19:08:55.222792600Z"
    }
   },
   "id": "14edb4a6a0d30399"
  },
  {
   "cell_type": "code",
   "execution_count": 4,
   "outputs": [
    {
     "name": "stdout",
     "output_type": "stream",
     "text": [
      "{2020: 'Literature'}\n"
     ]
    }
   ],
   "source": [
    "# 3. max_female_dict\n",
    "\n",
    "# female winners and total winners\n",
    "female_winners = nobel[nobel['sex'] == 'Female']\n",
    "total_winners_per_decade_category = nobel.groupby(by=['decade', 'category']).size().fillna(0)\n",
    "# print('Total:')\n",
    "# print(total_winners_per_decade_category)\n",
    "\n",
    "# print('Female:')\n",
    "female_winner_per_decade_category = female_winners.groupby(by=['decade', 'category']).size().fillna(0)\n",
    "# print(female_winner_per_decade_category)\n",
    "\n",
    "# get proportion\n",
    "proportion_female_per_decade_category = (female_winner_per_decade_category / total_winners_per_decade_category).fillna(0).round(2)\n",
    "# print(proportion_female_per_decade_category)\n",
    "# \n",
    "# # get max decade and category pair\n",
    "max_female_decade_category = proportion_female_per_decade_category.idxmax()\n",
    "# print(max_female_decade_category)\n",
    "\n",
    "# # change into dictionary\n",
    "max_female_dict = {max_female_decade_category[0]: max_female_decade_category[1]}\n",
    "print(max_female_dict)"
   ],
   "metadata": {
    "collapsed": false,
    "ExecuteTime": {
     "end_time": "2024-01-19T19:08:55.267377100Z",
     "start_time": "2024-01-19T19:08:55.233336600Z"
    }
   },
   "id": "cba307b7ca8487f2"
  },
  {
   "cell_type": "markdown",
   "source": [],
   "metadata": {
    "collapsed": false
   },
   "id": "4fdcab5d3f8ad4e1"
  },
  {
   "cell_type": "code",
   "execution_count": 9,
   "outputs": [
    {
     "name": "stdout",
     "output_type": "stream",
     "text": [
      "Marie Curie, née Sklodowska Physics\n"
     ]
    }
   ],
   "source": [
    "# 4. first woman winners\n",
    "\n",
    "# female winners with earliest year\n",
    "\n",
    "female_winners = nobel[nobel['sex'] == 'Female']\n",
    "# print(female_winners)\n",
    "\n",
    "# first female winner: get her name and category\n",
    "first_female = female_winners[female_winners['year'] == min(female_winners['year'])]\n",
    "# print(first_female)\n",
    "first_female_name = first_female['full_name'].values[0]\n",
    "first_female_category = first_female['category'].values[0]\n",
    "print(first_female_name, first_female_category)"
   ],
   "metadata": {
    "collapsed": false,
    "ExecuteTime": {
     "end_time": "2024-01-19T19:10:08.230746300Z",
     "start_time": "2024-01-19T19:10:08.085220500Z"
    }
   },
   "id": "bd66a516da85674f"
  },
  {
   "cell_type": "code",
   "execution_count": 13,
   "outputs": [
    {
     "name": "stdout",
     "output_type": "stream",
     "text": [
      "['Marie Curie, née Sklodowska', 'Linus Carl Pauling', 'John Bardeen', 'Frederick Sanger', 'Comité international de la Croix Rouge (International Committee of the Red Cross)', 'Office of the United Nations High Commissioner for Refugees (UNHCR)']\n"
     ]
    }
   ],
   "source": [
    "# 5. repeat_list\n",
    "\n",
    "# method 1:\n",
    "\n",
    "# individual\n",
    "indi_subset = nobel[nobel['laureate_type'] == 'Individual']\n",
    "indi_counts = indi_subset['full_name'].value_counts()\n",
    "# print(indi_counts)\n",
    "indi_list = indi_counts[indi_counts >= 2].index.tolist()\n",
    "\n",
    "# organization\n",
    "org_subset = nobel[nobel['laureate_type'] == 'Organization']\n",
    "org_counts = org_subset['full_name'].value_counts()\n",
    "# print(org_counts)\n",
    "org_list = org_counts[org_counts >=2].index.tolist()\n",
    "\n",
    "# full list\n",
    "repeat_list = indi_list + org_list\n",
    "print(repeat_list)\n",
    "\n",
    "# method 2:\n",
    "# # find duplicated individuals and organizations\n",
    "# duplicated_individual = nobel[nobel.duplicated(subset=['full_name'])].dropna()\n",
    "# individual_list = set(duplicated_individual['full_name'].to_numpy())\n",
    "# individual_list = list(individual_list)\n",
    "# # print(individual_list)\n",
    "# \n",
    "# duplicated_org = nobel[nobel.duplicated(subset=['organization_name'])].dropna()\n",
    "# org_list = set(duplicated_org['organization_name'].to_numpy())\n",
    "# org_list = list(org_list)\n",
    "# # print(org_list)\n",
    "# \n",
    "# # form one big list\n",
    "# repeat_list = individual_list + org_list\n",
    "# print(repeat_list)\n",
    "\n",
    "\n",
    "\n",
    "\n"
   ],
   "metadata": {
    "collapsed": false,
    "ExecuteTime": {
     "end_time": "2024-01-19T19:11:48.270112700Z",
     "start_time": "2024-01-19T19:11:48.157073Z"
    }
   },
   "id": "544fe5debec8543d"
  },
  {
   "cell_type": "code",
   "execution_count": 7,
   "outputs": [],
   "source": [
    "# final submitted answer\n",
    "top_gender = 'Male'\n",
    "top_country = 'United States of America'\n",
    "max_decade_usa = 2000\n",
    "max_female_dict = {2020: 'Literature'}\n",
    "first_woman_name = 'Marie Curie, née Sklodowska'\n",
    "first_woman_category = 'Physics'\n",
    "repeat_list = ['Marie Curie, née Sklodowska', 'Linus Carl Pauling', 'John Bardeen', 'Frederick Sanger', 'Comité international de la Croix Rouge (International Committee of the Red Cross)', 'Office of the United Nations High Commissioner for Refugees (UNHCR)']"
   ],
   "metadata": {
    "collapsed": false,
    "ExecuteTime": {
     "end_time": "2024-01-19T19:08:55.504501400Z",
     "start_time": "2024-01-19T19:08:55.281770400Z"
    }
   },
   "id": "9dfede44999ffc2c"
  }
 ],
 "metadata": {
  "kernelspec": {
   "display_name": "Python 3",
   "language": "python",
   "name": "python3"
  },
  "language_info": {
   "codemirror_mode": {
    "name": "ipython",
    "version": 2
   },
   "file_extension": ".py",
   "mimetype": "text/x-python",
   "name": "python",
   "nbconvert_exporter": "python",
   "pygments_lexer": "ipython2",
   "version": "2.7.6"
  }
 },
 "nbformat": 4,
 "nbformat_minor": 5
}
