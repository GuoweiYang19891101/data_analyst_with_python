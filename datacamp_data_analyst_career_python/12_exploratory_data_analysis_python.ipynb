{
 "cells": [
  {
   "cell_type": "markdown",
   "source": [
    "## Exploratory Data Analysis in Python\n",
    "\n",
    "**Course Structure:**\n",
    "* Chapter 1. Getting to Know a Dataset\n",
    "* Chapter 2. Data Cleaning and Imputation\n",
    "* Chapter 3. Relations in Data\n",
    "* Chapter 4. Turning Exploratory Analysis Into Action\n",
    "\n",
    "### CHAPTER 1. Getting to Know a Dataset\n",
    "\n",
    "#### Part 1.1 Initial exploration\n",
    "\n",
    "*"
   ],
   "metadata": {
    "collapsed": false
   },
   "id": "c01e64a14ec200e0"
  },
  {
   "cell_type": "code",
   "execution_count": null,
   "outputs": [],
   "source": [],
   "metadata": {
    "collapsed": false
   },
   "id": "d869122ff21c5ce0"
  },
  {
   "cell_type": "code",
   "execution_count": null,
   "outputs": [],
   "source": [],
   "metadata": {
    "collapsed": false
   },
   "id": "c360c2f22efc0818"
  },
  {
   "cell_type": "code",
   "execution_count": null,
   "outputs": [],
   "source": [],
   "metadata": {
    "collapsed": false
   },
   "id": "c40b82b916321574"
  }
 ],
 "metadata": {
  "kernelspec": {
   "display_name": "Python 3",
   "language": "python",
   "name": "python3"
  },
  "language_info": {
   "codemirror_mode": {
    "name": "ipython",
    "version": 2
   },
   "file_extension": ".py",
   "mimetype": "text/x-python",
   "name": "python",
   "nbconvert_exporter": "python",
   "pygments_lexer": "ipython2",
   "version": "2.7.6"
  }
 },
 "nbformat": 4,
 "nbformat_minor": 5
}
