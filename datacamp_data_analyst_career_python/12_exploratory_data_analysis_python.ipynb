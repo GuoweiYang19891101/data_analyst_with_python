{
 "cells": [
  {
   "cell_type": "markdown",
   "source": [
    "## Exploratory Data Analysis in Python\n",
    "\n",
    "**Course Structure:**\n",
    "* Chapter 1. Getting to Know a Dataset\n",
    "* Chapter 2. Data Cleaning and Imputation\n",
    "* Chapter 3. Relations in Data\n",
    "* Chapter 4. Turning Exploratory Analysis Into Action\n",
    "\n",
    "### CHAPTER 1. Getting to Know a Dataset\n",
    "\n",
    "#### Part 1.1 Initial exploration\n",
    "\n",
    "**Exploratory Data Analysis (EDA):**\n",
    "* The process of **reviewing and cleaning data** to **derive insights** and **generate hypothesis** \n",
    "* Prepare data for use in a machine learning model\n",
    "* Use *'.head()'* to get a first look at the data\n",
    "* Use *'.info()'* to gather more information\n",
    "* Use *'.value_counts()'* to look at categorical columns\n",
    "* Use *'.describe()'* to look at numerical columns\n",
    "* Use *'seaborn'* and *'matplotlib.pyplot'* library to visualize data"
   ],
   "metadata": {
    "collapsed": false
   },
   "id": "c01e64a14ec200e0"
  },
  {
   "cell_type": "code",
   "execution_count": 1,
   "outputs": [
    {
     "name": "stdout",
     "output_type": "stream",
     "text": [
      "  country_code          country_name      continent   2010   2011   2012  \\\n",
      "0          AFG           Afghanistan           Asia  11.35  11.05  11.34   \n",
      "1          AGO                Angola         Africa   9.43   7.36   7.35   \n",
      "2          ALB               Albania         Europe  14.09  13.48  13.38   \n",
      "3          ARE  United Arab Emirates           Asia   2.48   2.30   2.18   \n",
      "4          ARG             Argentina  South America   7.71   7.18   7.22   \n",
      "\n",
      "    2013   2014   2015   2016   2017   2018   2019   2020   2021  \n",
      "0  11.19  11.14  11.13  11.16  11.18  11.15  11.22  11.71  13.28  \n",
      "1   7.37   7.37   7.39   7.41   7.41   7.42   7.42   8.33   8.53  \n",
      "2  15.87  18.05  17.19  15.42  13.62  12.30  11.47  13.33  11.82  \n",
      "3   2.04   1.91   1.77   1.64   2.46   2.35   2.23   3.19   3.36  \n",
      "4   7.10   7.27   7.52   8.11   8.35   9.22   9.84  11.46  10.90  \n",
      "<class 'pandas.core.frame.DataFrame'>\n",
      "RangeIndex: 182 entries, 0 to 181\n",
      "Data columns (total 15 columns):\n",
      " #   Column        Non-Null Count  Dtype  \n",
      "---  ------        --------------  -----  \n",
      " 0   country_code  182 non-null    object \n",
      " 1   country_name  182 non-null    object \n",
      " 2   continent     177 non-null    object \n",
      " 3   2010          182 non-null    float64\n",
      " 4   2011          182 non-null    float64\n",
      " 5   2012          182 non-null    float64\n",
      " 6   2013          182 non-null    float64\n",
      " 7   2014          182 non-null    float64\n",
      " 8   2015          182 non-null    float64\n",
      " 9   2016          182 non-null    float64\n",
      " 10  2017          182 non-null    float64\n",
      " 11  2018          182 non-null    float64\n",
      " 12  2019          182 non-null    float64\n",
      " 13  2020          182 non-null    float64\n",
      " 14  2021          182 non-null    float64\n",
      "dtypes: float64(12), object(3)\n",
      "memory usage: 21.5+ KB\n",
      "None\n",
      "             2010        2011        2012        2013        2014        2015  \\\n",
      "count  182.000000  182.000000  182.000000  182.000000  182.000000  182.000000   \n",
      "mean     8.409286    8.315440    8.317967    8.344780    8.179670    8.058901   \n",
      "std      6.248887    6.266795    6.367270    6.416041    6.284241    6.161170   \n",
      "min      0.450000    0.320000    0.480000    0.250000    0.200000    0.170000   \n",
      "25%      4.015000    3.775000    3.742500    3.692500    3.625000    3.662500   \n",
      "50%      6.965000    6.805000    6.690000    6.395000    6.450000    6.170000   \n",
      "75%     10.957500   11.045000   11.285000   11.310000   10.695000   10.215000   \n",
      "max     32.020000   31.380000   31.020000   29.000000   28.030000   27.690000   \n",
      "\n",
      "             2016        2017        2018        2019        2020        2021  \n",
      "count  182.000000  182.000000  182.000000  182.000000  182.000000  182.000000  \n",
      "mean     7.925879    7.668626    7.426429    7.243736    8.420934    8.390879  \n",
      "std      6.045439    5.902152    5.818915    5.696573    6.040915    6.067192  \n",
      "min      0.150000    0.140000    0.110000    0.100000    0.210000    0.260000  \n",
      "25%      3.800000    3.690000    3.625000    3.487500    4.285000    4.335000  \n",
      "50%      5.925000    5.650000    5.375000    5.240000    6.695000    6.425000  \n",
      "75%     10.245000   10.315000    9.257500    9.445000   11.155000   10.840000  \n",
      "max     26.540000   27.040000   26.910000   28.470000   29.220000   33.560000  \n",
      "continent\n",
      "Africa           53\n",
      "Asia             47\n",
      "Europe           39\n",
      "North America    18\n",
      "South America    12\n",
      "Oceania           8\n",
      "Name: count, dtype: int64\n"
     ]
    }
   ],
   "source": [
    "# Code for part 1.1\n",
    "\n",
    "# functions for initial exploration\n",
    "import pandas as pd\n",
    "\n",
    "# get the data\n",
    "unemployment = pd.read_csv('12_datasets/clean_unemployment.csv')\n",
    "\n",
    "# print the first five rows\n",
    "print(unemployment.head())\n",
    "\n",
    "# print summary of non-missing values and data types\n",
    "print(unemployment.info())\n",
    "\n",
    "# print summary statistics for numerical columns\n",
    "print(unemployment.describe())\n",
    "\n",
    "# count the values associated with each continent\n",
    "print(unemployment['continent'].value_counts())\n"
   ],
   "metadata": {
    "collapsed": false,
    "ExecuteTime": {
     "end_time": "2024-01-20T19:08:31.514935700Z",
     "start_time": "2024-01-20T19:08:31.414867700Z"
    }
   },
   "id": "d869122ff21c5ce0"
  },
  {
   "cell_type": "code",
   "execution_count": 3,
   "outputs": [
    {
     "data": {
      "text/plain": "<Figure size 640x480 with 1 Axes>",
      "image/png": "[encoded data removed]"
     },
     "metadata": {},
     "output_type": "display_data"
    }
   ],
   "source": [
    "# Code for part 1.1 (continue)\n",
    "\n",
    "# global unemployment in 2021\n",
    "import seaborn as sns\n",
    "import matplotlib.pyplot as plt\n",
    "\n",
    "# create a histogram of 2021 unemployment\n",
    "sns.histplot(data=unemployment, x=\"2021\",binwidth=1)\n",
    "plt.show()\n"
   ],
   "metadata": {
    "collapsed": false,
    "ExecuteTime": {
     "end_time": "2024-01-20T19:09:02.559356600Z",
     "start_time": "2024-01-20T19:09:01.701819400Z"
    }
   },
   "id": "c360c2f22efc0818"
  },
  {
   "cell_type": "markdown",
   "source": [
    "#### Part 1.2 Data validation\n",
    "\n",
    "* An early step in EDA\n",
    "* Verify whether **data types and ranges** are as expected\n",
    "* Use *'.dtypes'* to look at data types\n",
    "* Use *'.astype()'* to change data types\n",
    "* Use *'.isin()'* to validate categorical data\n",
    "* Use *'.min(), .max()'* and *sns.boxplot()* to validate numerical data"
   ],
   "metadata": {
    "collapsed": false
   },
   "id": "eaabd5eb9ad9978f"
  },
  {
   "cell_type": "code",
   "execution_count": 5,
   "outputs": [
    {
     "name": "stdout",
     "output_type": "stream",
     "text": [
      "country_code     object\n",
      "country_name     object\n",
      "continent        object\n",
      "2010            float64\n",
      "2011            float64\n",
      "2012            float64\n",
      "2013            float64\n",
      "2014            float64\n",
      "2015            float64\n",
      "2016            float64\n",
      "2017            float64\n",
      "2018            float64\n",
      "2019            float64\n",
      "2020            float64\n",
      "2021            float64\n",
      "dtype: object\n",
      "    country_code          country_name      continent   2010   2011   2012  \\\n",
      "0            AFG           Afghanistan           Asia  11.35  11.05  11.34   \n",
      "1            AGO                Angola         Africa   9.43   7.36   7.35   \n",
      "2            ALB               Albania         Europe  14.09  13.48  13.38   \n",
      "3            ARE  United Arab Emirates           Asia   2.48   2.30   2.18   \n",
      "4            ARG             Argentina  South America   7.71   7.18   7.22   \n",
      "..           ...                   ...            ...    ...    ...    ...   \n",
      "175          VNM               Vietnam           Asia   1.11   1.00   1.03   \n",
      "178          YEM           Yemen, Rep.           Asia  12.83  13.23  13.17   \n",
      "179          ZAF          South Africa         Africa  24.68  24.64  24.73   \n",
      "180          ZMB                Zambia         Africa  13.19  10.55   7.85   \n",
      "181          ZWE              Zimbabwe         Africa   5.21   5.37   5.15   \n",
      "\n",
      "      2013   2014   2015   2016   2017   2018   2019   2020   2021  \n",
      "0    11.19  11.14  11.13  11.16  11.18  11.15  11.22  11.71  13.28  \n",
      "1     7.37   7.37   7.39   7.41   7.41   7.42   7.42   8.33   8.53  \n",
      "2    15.87  18.05  17.19  15.42  13.62  12.30  11.47  13.33  11.82  \n",
      "3     2.04   1.91   1.77   1.64   2.46   2.35   2.23   3.19   3.36  \n",
      "4     7.10   7.27   7.52   8.11   8.35   9.22   9.84  11.46  10.90  \n",
      "..     ...    ...    ...    ...    ...    ...    ...    ...    ...  \n",
      "175   1.32   1.26   1.85   1.85   1.87   1.16   2.04   2.39   2.17  \n",
      "178  13.27  13.47  13.77  13.43  13.30  13.15  13.06  13.39  13.57  \n",
      "179  24.56  24.89  25.15  26.54  27.04  26.91  28.47  29.22  33.56  \n",
      "180   8.61   9.36  10.13  10.87  11.63  12.01  12.52  12.85  13.03  \n",
      "181   4.98   4.77   4.78   4.79   4.78   4.80   4.83   5.35   5.17  \n",
      "\n",
      "[174 rows x 15 columns]\n"
     ]
    }
   ],
   "source": [
    "# Code for part 1.2\n",
    "\n",
    "# get the data\n",
    "import pandas as pd\n",
    "unemployment = pd.read_csv('12_datasets/clean_unemployment.csv')\n",
    "\n",
    "# detecting data types\n",
    "print(unemployment.dtypes)\n",
    "\n",
    "# validating continents whether it is outside Oceania\n",
    "not_oceania = ~unemployment['continent'].isin(['Oceania'])\n",
    "print(unemployment[not_oceania])\n"
   ],
   "metadata": {
    "collapsed": false,
    "ExecuteTime": {
     "end_time": "2024-01-20T19:18:52.064833100Z",
     "start_time": "2024-01-20T19:18:51.948374900Z"
    }
   },
   "id": "4683120ecd362090"
  },
  {
   "cell_type": "code",
   "execution_count": 6,
   "outputs": [
    {
     "name": "stdout",
     "output_type": "stream",
     "text": [
      "0.26 33.56\n"
     ]
    },
    {
     "data": {
      "text/plain": "<Figure size 640x480 with 1 Axes>",
      "image/png": "[encoded data removed]"
     },
     "metadata": {},
     "output_type": "display_data"
    }
   ],
   "source": [
    "# Code for part 1.2 (continue)\n",
    "\n",
    "# validating range\n",
    "import seaborn as sns\n",
    "import matplotlib.pyplot as plt\n",
    "\n",
    "# print the minimum and maximum unemployment rates during 2021\n",
    "print(unemployment['2021'].min(), unemployment['2021'].max())\n",
    "\n",
    "# create a boxplot of 2021 unemployment rates, broken down by continent\n",
    "sns.boxplot(data=unemployment, x=\"2021\", y=\"continent\")\n",
    "plt.show()"
   ],
   "metadata": {
    "collapsed": false,
    "ExecuteTime": {
     "end_time": "2024-01-20T19:22:48.422670Z",
     "start_time": "2024-01-20T19:22:48.226404Z"
    }
   },
   "id": "e807942b69986292"
  },
  {
   "cell_type": "markdown",
   "source": [
    "#### Part 1.3 Data summarization\n",
    "\n",
    "*"
   ],
   "metadata": {
    "collapsed": false
   },
   "id": "a0b5372ca4ddc5d"
  },
  {
   "cell_type": "code",
   "execution_count": null,
   "outputs": [],
   "source": [],
   "metadata": {
    "collapsed": false
   },
   "id": "28d367dfefa5b652"
  }
 ],
 "metadata": {
  "kernelspec": {
   "display_name": "Python 3",
   "language": "python",
   "name": "python3"
  },
  "language_info": {
   "codemirror_mode": {
    "name": "ipython",
    "version": 2
   },
   "file_extension": ".py",
   "mimetype": "text/x-python",
   "name": "python",
   "nbconvert_exporter": "python",
   "pygments_lexer": "ipython2",
   "version": "2.7.6"
  }
 },
 "nbformat": 4,
 "nbformat_minor": 5
}
