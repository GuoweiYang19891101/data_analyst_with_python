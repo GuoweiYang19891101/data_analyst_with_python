{
 "cells": [
  {
   "cell_type": "markdown",
   "source": [
    "## Exploratory Data Analysis in Python\n",
    "\n",
    "**Course Structure:**\n",
    "* Chapter 1. Getting to Know a Dataset\n",
    "* Chapter 2. Data Cleaning and Imputation\n",
    "* Chapter 3. Relations in Data\n",
    "* Chapter 4. Turning Exploratory Analysis Into Action\n",
    "\n",
    "### CHAPTER 1. Getting to Know a Dataset\n",
    "\n",
    "#### Part 1.1 Initial exploration\n",
    "\n",
    "**Exploratory Data Analysis (EDA):**\n",
    "* The process of **reviewing and cleaning data** to **derive insights** and **generate hypothesis** \n",
    "* Prepare data for use in a machine learning model\n",
    "* Use *'.head()'* to get a first look at the data\n",
    "* Use *'.info()'* to gather more information\n",
    "* Use *'.value_counts()'* to look at categorical columns\n",
    "* Use *'.describe()'* to look at numerical columns\n",
    "* Use *'seaborn'* and *'matplotlib.pyplot'* library to visualize data"
   ],
   "metadata": {
    "collapsed": false
   },
   "id": "c01e64a14ec200e0"
  },
  {
   "cell_type": "code",
   "execution_count": 1,
   "outputs": [
    {
     "name": "stdout",
     "output_type": "stream",
     "text": [
      "  country_code          country_name      continent   2010   2011   2012  \\\n",
      "0          AFG           Afghanistan           Asia  11.35  11.05  11.34   \n",
      "1          AGO                Angola         Africa   9.43   7.36   7.35   \n",
      "2          ALB               Albania         Europe  14.09  13.48  13.38   \n",
      "3          ARE  United Arab Emirates           Asia   2.48   2.30   2.18   \n",
      "4          ARG             Argentina  South America   7.71   7.18   7.22   \n",
      "\n",
      "    2013   2014   2015   2016   2017   2018   2019   2020   2021  \n",
      "0  11.19  11.14  11.13  11.16  11.18  11.15  11.22  11.71  13.28  \n",
      "1   7.37   7.37   7.39   7.41   7.41   7.42   7.42   8.33   8.53  \n",
      "2  15.87  18.05  17.19  15.42  13.62  12.30  11.47  13.33  11.82  \n",
      "3   2.04   1.91   1.77   1.64   2.46   2.35   2.23   3.19   3.36  \n",
      "4   7.10   7.27   7.52   8.11   8.35   9.22   9.84  11.46  10.90  \n",
      "<class 'pandas.core.frame.DataFrame'>\n",
      "RangeIndex: 182 entries, 0 to 181\n",
      "Data columns (total 15 columns):\n",
      " #   Column        Non-Null Count  Dtype  \n",
      "---  ------        --------------  -----  \n",
      " 0   country_code  182 non-null    object \n",
      " 1   country_name  182 non-null    object \n",
      " 2   continent     177 non-null    object \n",
      " 3   2010          182 non-null    float64\n",
      " 4   2011          182 non-null    float64\n",
      " 5   2012          182 non-null    float64\n",
      " 6   2013          182 non-null    float64\n",
      " 7   2014          182 non-null    float64\n",
      " 8   2015          182 non-null    float64\n",
      " 9   2016          182 non-null    float64\n",
      " 10  2017          182 non-null    float64\n",
      " 11  2018          182 non-null    float64\n",
      " 12  2019          182 non-null    float64\n",
      " 13  2020          182 non-null    float64\n",
      " 14  2021          182 non-null    float64\n",
      "dtypes: float64(12), object(3)\n",
      "memory usage: 21.5+ KB\n",
      "None\n",
      "             2010        2011        2012        2013        2014        2015  \\\n",
      "count  182.000000  182.000000  182.000000  182.000000  182.000000  182.000000   \n",
      "mean     8.409286    8.315440    8.317967    8.344780    8.179670    8.058901   \n",
      "std      6.248887    6.266795    6.367270    6.416041    6.284241    6.161170   \n",
      "min      0.450000    0.320000    0.480000    0.250000    0.200000    0.170000   \n",
      "25%      4.015000    3.775000    3.742500    3.692500    3.625000    3.662500   \n",
      "50%      6.965000    6.805000    6.690000    6.395000    6.450000    6.170000   \n",
      "75%     10.957500   11.045000   11.285000   11.310000   10.695000   10.215000   \n",
      "max     32.020000   31.380000   31.020000   29.000000   28.030000   27.690000   \n",
      "\n",
      "             2016        2017        2018        2019        2020        2021  \n",
      "count  182.000000  182.000000  182.000000  182.000000  182.000000  182.000000  \n",
      "mean     7.925879    7.668626    7.426429    7.243736    8.420934    8.390879  \n",
      "std      6.045439    5.902152    5.818915    5.696573    6.040915    6.067192  \n",
      "min      0.150000    0.140000    0.110000    0.100000    0.210000    0.260000  \n",
      "25%      3.800000    3.690000    3.625000    3.487500    4.285000    4.335000  \n",
      "50%      5.925000    5.650000    5.375000    5.240000    6.695000    6.425000  \n",
      "75%     10.245000   10.315000    9.257500    9.445000   11.155000   10.840000  \n",
      "max     26.540000   27.040000   26.910000   28.470000   29.220000   33.560000  \n",
      "continent\n",
      "Africa           53\n",
      "Asia             47\n",
      "Europe           39\n",
      "North America    18\n",
      "South America    12\n",
      "Oceania           8\n",
      "Name: count, dtype: int64\n"
     ]
    }
   ],
   "source": [
    "# Code for part 1.1\n",
    "\n",
    "# functions for initial exploration\n",
    "import pandas as pd\n",
    "\n",
    "# get the data\n",
    "unemployment = pd.read_csv('12_datasets/clean_unemployment.csv')\n",
    "\n",
    "# print the first five rows\n",
    "print(unemployment.head())\n",
    "\n",
    "# print summary of non-missing values and data types\n",
    "print(unemployment.info())\n",
    "\n",
    "# print summary statistics for numerical columns\n",
    "print(unemployment.describe())\n",
    "\n",
    "# count the values associated with each continent\n",
    "print(unemployment['continent'].value_counts())\n"
   ],
   "metadata": {
    "collapsed": false,
    "ExecuteTime": {
     "end_time": "2024-01-23T18:24:34.549993700Z",
     "start_time": "2024-01-23T18:24:34.509509100Z"
    }
   },
   "id": "d869122ff21c5ce0"
  },
  {
   "cell_type": "code",
   "execution_count": 2,
   "outputs": [
    {
     "data": {
      "text/plain": "<Figure size 640x480 with 1 Axes>",
      "image/png": "[encoded data removed]"
     },
     "metadata": {},
     "output_type": "display_data"
    }
   ],
   "source": [
    "# Code for part 1.1 (continue)\n",
    "\n",
    "# global unemployment in 2021\n",
    "import seaborn as sns\n",
    "import matplotlib.pyplot as plt\n",
    "\n",
    "# create a histogram of 2021 unemployment\n",
    "sns.histplot(data=unemployment, x=\"2021\",binwidth=1)\n",
    "plt.show()\n"
   ],
   "metadata": {
    "collapsed": false,
    "ExecuteTime": {
     "end_time": "2024-01-23T18:24:34.836777200Z",
     "start_time": "2024-01-23T18:24:34.549993700Z"
    }
   },
   "id": "c360c2f22efc0818"
  },
  {
   "cell_type": "markdown",
   "source": [
    "#### Part 1.2 Data validation\n",
    "\n",
    "* An early step in EDA\n",
    "* Verify whether **data types and ranges** are as expected\n",
    "* Use *'.dtypes'* to look at data types\n",
    "* Use *'.astype()'* to change data types\n",
    "* Use *'.isin()'* to validate categorical data\n",
    "* Use *'.min(), .max()'* and *sns.boxplot()* to validate numerical data"
   ],
   "metadata": {
    "collapsed": false
   },
   "id": "eaabd5eb9ad9978f"
  },
  {
   "cell_type": "code",
   "execution_count": 3,
   "outputs": [
    {
     "name": "stdout",
     "output_type": "stream",
     "text": [
      "country_code     object\n",
      "country_name     object\n",
      "continent        object\n",
      "2010            float64\n",
      "2011            float64\n",
      "2012            float64\n",
      "2013            float64\n",
      "2014            float64\n",
      "2015            float64\n",
      "2016            float64\n",
      "2017            float64\n",
      "2018            float64\n",
      "2019            float64\n",
      "2020            float64\n",
      "2021            float64\n",
      "dtype: object\n",
      "    country_code          country_name      continent   2010   2011   2012  \\\n",
      "0            AFG           Afghanistan           Asia  11.35  11.05  11.34   \n",
      "1            AGO                Angola         Africa   9.43   7.36   7.35   \n",
      "2            ALB               Albania         Europe  14.09  13.48  13.38   \n",
      "3            ARE  United Arab Emirates           Asia   2.48   2.30   2.18   \n",
      "4            ARG             Argentina  South America   7.71   7.18   7.22   \n",
      "..           ...                   ...            ...    ...    ...    ...   \n",
      "175          VNM               Vietnam           Asia   1.11   1.00   1.03   \n",
      "178          YEM           Yemen, Rep.           Asia  12.83  13.23  13.17   \n",
      "179          ZAF          South Africa         Africa  24.68  24.64  24.73   \n",
      "180          ZMB                Zambia         Africa  13.19  10.55   7.85   \n",
      "181          ZWE              Zimbabwe         Africa   5.21   5.37   5.15   \n",
      "\n",
      "      2013   2014   2015   2016   2017   2018   2019   2020   2021  \n",
      "0    11.19  11.14  11.13  11.16  11.18  11.15  11.22  11.71  13.28  \n",
      "1     7.37   7.37   7.39   7.41   7.41   7.42   7.42   8.33   8.53  \n",
      "2    15.87  18.05  17.19  15.42  13.62  12.30  11.47  13.33  11.82  \n",
      "3     2.04   1.91   1.77   1.64   2.46   2.35   2.23   3.19   3.36  \n",
      "4     7.10   7.27   7.52   8.11   8.35   9.22   9.84  11.46  10.90  \n",
      "..     ...    ...    ...    ...    ...    ...    ...    ...    ...  \n",
      "175   1.32   1.26   1.85   1.85   1.87   1.16   2.04   2.39   2.17  \n",
      "178  13.27  13.47  13.77  13.43  13.30  13.15  13.06  13.39  13.57  \n",
      "179  24.56  24.89  25.15  26.54  27.04  26.91  28.47  29.22  33.56  \n",
      "180   8.61   9.36  10.13  10.87  11.63  12.01  12.52  12.85  13.03  \n",
      "181   4.98   4.77   4.78   4.79   4.78   4.80   4.83   5.35   5.17  \n",
      "\n",
      "[174 rows x 15 columns]\n"
     ]
    }
   ],
   "source": [
    "# Code for part 1.2\n",
    "\n",
    "# get the data\n",
    "import pandas as pd\n",
    "unemployment = pd.read_csv('12_datasets/clean_unemployment.csv')\n",
    "\n",
    "# detecting data types\n",
    "print(unemployment.dtypes)\n",
    "\n",
    "# validating continents whether it is outside Oceania\n",
    "not_oceania = ~unemployment['continent'].isin(['Oceania'])\n",
    "print(unemployment[not_oceania])\n"
   ],
   "metadata": {
    "collapsed": false,
    "ExecuteTime": {
     "end_time": "2024-01-23T18:24:34.856390300Z",
     "start_time": "2024-01-23T18:24:34.839769200Z"
    }
   },
   "id": "4683120ecd362090"
  },
  {
   "cell_type": "code",
   "execution_count": 4,
   "outputs": [
    {
     "name": "stdout",
     "output_type": "stream",
     "text": [
      "0.26 33.56\n"
     ]
    },
    {
     "data": {
      "text/plain": "<Figure size 640x480 with 1 Axes>",
      "image/png": "[encoded data removed]"
     },
     "metadata": {},
     "output_type": "display_data"
    }
   ],
   "source": [
    "# Code for part 1.2 (continue)\n",
    "\n",
    "# validating range\n",
    "import seaborn as sns\n",
    "import matplotlib.pyplot as plt\n",
    "\n",
    "# print the minimum and maximum unemployment rates during 2021\n",
    "print(unemployment['2021'].min(), unemployment['2021'].max())\n",
    "\n",
    "# create a boxplot of 2021 unemployment rates, broken down by continent\n",
    "sns.boxplot(data=unemployment, x=\"2021\", y=\"continent\")\n",
    "plt.show()"
   ],
   "metadata": {
    "collapsed": false,
    "ExecuteTime": {
     "end_time": "2024-01-23T18:24:35.222704800Z",
     "start_time": "2024-01-23T18:24:34.859383300Z"
    }
   },
   "id": "e807942b69986292"
  },
  {
   "cell_type": "markdown",
   "source": [
    "#### Part 1.3 Data summarization\n",
    "\n",
    "* Use *'.groupby()'* to explore groups of data\n",
    "* And use chained aggregated functions to summarize grouped data\n",
    "* Aggregating functions:\n",
    "    * Sum: *'.sum()'*\n",
    "    * Count: *'.count()'*\n",
    "    * Minimum: *'.min()'*\n",
    "    * Maximum: *'.max()'*\n",
    "    * Variance: *'.var()'*\n",
    "    * Standard deviation: *'.std()'*\n",
    "* Use *'.agg()'* applies aggregating functions across a DataFrame (ungrouped data)\n",
    "* You can even **specify aggregations for columns** and **name summary columns**\n",
    "* Use *'sns.barplot()'* to visualize categorical summaries"
   ],
   "metadata": {
    "collapsed": false
   },
   "id": "a0b5372ca4ddc5d"
  },
  {
   "cell_type": "code",
   "execution_count": 5,
   "outputs": [
    {
     "name": "stdout",
     "output_type": "stream",
     "text": [
      "          2010      2011      2012      2013      2014      2015      2016  \\\n",
      "mean  8.409286  8.315440  8.317967  8.344780  8.179670  8.058901  7.925879   \n",
      "std   6.248887  6.266795  6.367270  6.416041  6.284241  6.161170  6.045439   \n",
      "\n",
      "          2017      2018      2019      2020      2021  \n",
      "mean  7.668626  7.426429  7.243736  8.420934  8.390879  \n",
      "std   5.902152  5.818915  5.696573  6.040915  6.067192  \n",
      "                    2010                 2011                 2012            \\\n",
      "                    mean       std       mean       std       mean       std   \n",
      "continent                                                                      \n",
      "Africa          9.343585  7.411259   9.369245  7.401556   9.240755  7.264542   \n",
      "Asia            6.240638  5.146175   5.942128  4.779575   5.835319  4.756904   \n",
      "Europe         11.008205  6.392063  10.947949  6.539538  11.325641  7.003527   \n",
      "North America   8.663333  5.115805   8.563333  5.377041   8.448889  5.495819   \n",
      "Oceania         3.622500  2.054721   3.647500  2.008466   4.103750  2.723118   \n",
      "South America   6.870833  2.807058   6.518333  2.801577   6.410833  2.936508   \n",
      "\n",
      "                    2013                 2014            ...      2017  \\\n",
      "                    mean       std       mean       std  ...      mean   \n",
      "continent                                                ...             \n",
      "Africa          9.132453  7.309285   9.121321  7.291359  ...  9.284528   \n",
      "Asia            5.852128  4.668405   5.853191  4.681301  ...  6.171277   \n",
      "Europe         11.466667  6.969209  10.971282  6.759765  ...  8.359744   \n",
      "North America   8.840556  6.081829   8.512222  5.801927  ...  7.391111   \n",
      "Oceania         3.980000  2.640119   3.976250  2.659205  ...  3.872500   \n",
      "South America   6.335000  2.808780   6.347500  2.834332  ...  7.281667   \n",
      "\n",
      "                             2018                2019                 2020  \\\n",
      "                    std      mean       std      mean       std       mean   \n",
      "continent                                                                    \n",
      "Africa         7.407620  9.237925  7.358425  9.264340  7.455293  10.307736   \n",
      "Asia           5.277201  6.090213  5.409128  5.949149  5.254008   7.012340   \n",
      "Europe         5.177845  7.427436  4.738206  6.764359  4.124734   7.470513   \n",
      "North America  5.326446  7.281111  5.253180  7.095000  4.770490   9.297778   \n",
      "Oceania        2.492834  3.851250  2.455893  3.773750  2.369068   4.273750   \n",
      "South America  3.398994  7.496667  3.408856  7.719167  3.379845  10.275000   \n",
      "\n",
      "                              2021            \n",
      "                    std       mean       std  \n",
      "continent                                     \n",
      "Africa         7.928166  10.473585  8.131636  \n",
      "Asia           5.699609   6.906170  5.414745  \n",
      "Europe         4.071218   7.414872  3.947825  \n",
      "North America  4.963045   9.155000  5.076482  \n",
      "Oceania        2.617490   4.280000  2.671522  \n",
      "South America  3.411263   9.924167  3.611624  \n",
      "\n",
      "[6 rows x 24 columns]\n"
     ]
    }
   ],
   "source": [
    "# Code for part 1.3\n",
    "\n",
    "# summaries with .groupby() and .agg()\n",
    "import pandas as pd\n",
    "\n",
    "# get the data\n",
    "unemployment = pd.read_csv('12_datasets/clean_unemployment.csv')\n",
    "# print(unemployment.info())\n",
    "\n",
    "# keep numeric columns only\n",
    "unemployment_num = unemployment.select_dtypes('float64')\n",
    "# print(unemployment_num.info())\n",
    "\n",
    "# print the mean and standard deviation of rates by year\n",
    "print(unemployment_num.agg(['mean', 'std']))\n",
    "\n",
    "# remove other categorical columns except 'continent'\n",
    "unemployment_continent = unemployment.drop(['country_code', 'country_name'], axis=1)\n",
    "\n",
    "# print the mean and standard deviation of rates by year by each continent\n",
    "print(unemployment_continent.groupby('continent').agg(['mean', 'std']))"
   ],
   "metadata": {
    "collapsed": false,
    "ExecuteTime": {
     "end_time": "2024-01-23T18:24:35.271168900Z",
     "start_time": "2024-01-23T18:24:35.226692300Z"
    }
   },
   "id": "28d367dfefa5b652"
  },
  {
   "cell_type": "code",
   "execution_count": 6,
   "outputs": [
    {
     "name": "stdout",
     "output_type": "stream",
     "text": [
      "               mean_rate_2021  std_rate_2021\n",
      "continent                                   \n",
      "Africa              10.473585       8.131636\n",
      "Asia                 6.906170       5.414745\n",
      "Europe               7.414872       3.947825\n",
      "North America        9.155000       5.076482\n",
      "Oceania              4.280000       2.671522\n",
      "South America        9.924167       3.611624\n"
     ]
    }
   ],
   "source": [
    "# Code for part 1.3 (continue)\n",
    "\n",
    "# named aggregations\n",
    "continent_summary = unemployment_continent.groupby('continent').agg(\n",
    "    mean_rate_2021 = ('2021', 'mean'),\n",
    "    std_rate_2021 = ('2021', 'std')\n",
    ")\n",
    "print(continent_summary)\n"
   ],
   "metadata": {
    "collapsed": false,
    "ExecuteTime": {
     "end_time": "2024-01-23T18:24:35.291423400Z",
     "start_time": "2024-01-23T18:24:35.271168900Z"
    }
   },
   "id": "9e189a66ed2cda3b"
  },
  {
   "cell_type": "code",
   "execution_count": 7,
   "outputs": [
    {
     "data": {
      "text/plain": "<Figure size 640x480 with 1 Axes>",
      "image/png": "[encoded data removed]"
     },
     "metadata": {},
     "output_type": "display_data"
    }
   ],
   "source": [
    "# Code for part 1.3 (continue)\n",
    "\n",
    "# visualize categorical summaries\n",
    "import seaborn as sns\n",
    "import matplotlib.pyplot as plt\n",
    "\n",
    "# create a bar plot of continents and their average unemployment rate\n",
    "sns.barplot(data=unemployment, x='continent', y='2021')\n",
    "plt.show()"
   ],
   "metadata": {
    "collapsed": false,
    "ExecuteTime": {
     "end_time": "2024-01-23T18:24:35.650245100Z",
     "start_time": "2024-01-23T18:24:35.287436Z"
    }
   },
   "id": "9d36949ab25b1e87"
  },
  {
   "cell_type": "markdown",
   "source": [
    "### CHAPTER 2. Data Cleaning and Imputation\n",
    "\n",
    "#### Part 2.1 Addressing missing data\n",
    "\n",
    "**Missing data a problem?**\n",
    "* Affects distributions\n",
    "* Less representative of the population\n",
    "* Can result in draw wrong conclusions\n",
    "* Use *'.isna().sum()'* to check missing data in a DataFrame\n",
    "\n",
    "**Dealing with missing data:**\n",
    "1. Drop missing values (when 5% or less of total values)\n",
    "    * Use *'.dropna()'* to drop missing values\n",
    "2. Impute mean, median, mode (depends on distribution and context)\n",
    "    * Use *'.fillna()'* to impute missing values\n",
    "3. Impute by subgroup\n",
    "    * Use *'.fillna(.map())'* to configure the mapping strategy in subgroups"
   ],
   "metadata": {
    "collapsed": false
   },
   "id": "e14903f87373e619"
  },
  {
   "cell_type": "code",
   "execution_count": 8,
   "outputs": [
    {
     "name": "stdout",
     "output_type": "stream",
     "text": [
      "Airline            427\n",
      "Date_of_Journey    322\n",
      "Source             187\n",
      "Destination        347\n",
      "Route              256\n",
      "Dep_Time           260\n",
      "Arrival_Time       194\n",
      "Duration           214\n",
      "Total_Stops        212\n",
      "Additional_Info    589\n",
      "Price              616\n",
      "dtype: int64\n",
      "Airline              0\n",
      "Date_of_Journey      0\n",
      "Source               0\n",
      "Destination          0\n",
      "Route                0\n",
      "Dep_Time             0\n",
      "Arrival_Time         0\n",
      "Duration             0\n",
      "Total_Stops          0\n",
      "Additional_Info    300\n",
      "Price              368\n",
      "dtype: int64\n"
     ]
    }
   ],
   "source": [
    "# Code for part 2.1\n",
    "\n",
    "# dealing with missing data\n",
    "import pandas as pd\n",
    "\n",
    "# get the data\n",
    "planes = pd.read_csv('12_datasets/planes.csv')\n",
    "# print(planes.head())\n",
    "\n",
    "# print the number of missing values in each column\n",
    "print(planes.isna().sum())\n",
    "\n",
    "# find the threshold (5%)\n",
    "threshold = len(planes) * 0.05\n",
    "\n",
    "# create a filter\n",
    "cols_to_drop = planes.columns[planes.isna().sum() <= threshold]\n",
    "# print(cols_to_drop)\n",
    "\n",
    "# drop missing values with filter\n",
    "planes.dropna(subset=cols_to_drop, inplace=True)\n",
    "print(planes.isna().sum())\n",
    "\n",
    "# the remaining columns have missing values are: 'Additional_Info' and 'Price'"
   ],
   "metadata": {
    "collapsed": false,
    "ExecuteTime": {
     "end_time": "2024-01-23T18:24:35.715043100Z",
     "start_time": "2024-01-23T18:24:35.650245100Z"
    }
   },
   "id": "8607c6cb78e2fa14"
  },
  {
   "cell_type": "code",
   "execution_count": 9,
   "outputs": [
    {
     "name": "stdout",
     "output_type": "stream",
     "text": [
      "Additional_Info\n",
      "No info                         6399\n",
      "In-flight meal not included     1525\n",
      "No check-in baggage included     258\n",
      "1 Long layover                    14\n",
      "Change airports                    7\n",
      "No Info                            2\n",
      "Business class                     1\n",
      "Red-eye flight                     1\n",
      "2 Long layover                     1\n",
      "Name: count, dtype: int64\n"
     ]
    },
    {
     "data": {
      "text/plain": "<Figure size 640x480 with 1 Axes>",
      "image/png": "[encoded data removed]"
     },
     "metadata": {},
     "output_type": "display_data"
    }
   ],
   "source": [
    "# Code for part 2.1 (continue)\n",
    "\n",
    "# strategies for remaining missing data\n",
    "import pandas as pd\n",
    "import seaborn as sns\n",
    "import matplotlib.pyplot as plt\n",
    "\n",
    "# check 'Additional_Info' column\n",
    "print(planes['Additional_Info'].value_counts())\n",
    "\n",
    "# check 'Price' column\n",
    "sns.boxplot(data=planes, x='Airline', y='Price')\n",
    "plt.show()\n",
    "\n",
    "# we can remove 'Additional_Info' column and impute 'Price' column with subgroup median"
   ],
   "metadata": {
    "collapsed": false,
    "ExecuteTime": {
     "end_time": "2024-01-23T18:24:36.016157600Z",
     "start_time": "2024-01-23T18:24:35.710056900Z"
    }
   },
   "id": "68760a54f2a9e09e"
  },
  {
   "cell_type": "code",
   "execution_count": 10,
   "outputs": [
    {
     "name": "stdout",
     "output_type": "stream",
     "text": [
      "Airline            0\n",
      "Date_of_Journey    0\n",
      "Source             0\n",
      "Destination        0\n",
      "Route              0\n",
      "Dep_Time           0\n",
      "Arrival_Time       0\n",
      "Duration           0\n",
      "Total_Stops        0\n",
      "Additional_Info    0\n",
      "Price              0\n",
      "dtype: int64\n"
     ]
    }
   ],
   "source": [
    "# Code for part 2.1 (continue)\n",
    "\n",
    "# drop 'Additional_Info' column\n",
    "planes.dropna(subset=['Additional_Info'], inplace=True)\n",
    "\n",
    "# imputing missing plane prices\n",
    "airline_prices = planes.groupby('Airline')['Price'].median()\n",
    "\n",
    "# convert to a dictionary\n",
    "prices_dict = airline_prices.to_dict()\n",
    "\n",
    "# map the dictionary to missing values\n",
    "planes['Price'] = planes['Price'].fillna(planes['Airline'].map(prices_dict))\n",
    "\n",
    "# check for missing values (again)\n",
    "print(planes.isna().sum())"
   ],
   "metadata": {
    "collapsed": false,
    "ExecuteTime": {
     "end_time": "2024-01-23T18:24:36.034369900Z",
     "start_time": "2024-01-23T18:24:36.020146700Z"
    }
   },
   "id": "6533f3ada4ef1b"
  },
  {
   "cell_type": "markdown",
   "source": [
    "#### Part 2.2 Converting and analyzing categorical data\n",
    "\n",
    "* Use *'.select_dtypes('object')'* to preview categorical data\n",
    "* Use *'.value_counts()'* to look at categorical values and their counts\n",
    "* Use *'.nunique()'* to count how many unique values are in categorical column\n",
    "* Use *'.str.contains()'* to search a column for a specific string or multiple strings"
   ],
   "metadata": {
    "collapsed": false
   },
   "id": "12f987fd148d84d9"
  },
  {
   "cell_type": "code",
   "execution_count": 11,
   "outputs": [
    {
     "name": "stdout",
     "output_type": "stream",
     "text": [
      "Number of unique values in Airline column:  8\n",
      "Number of unique values in Date_of_Journey column:  44\n",
      "Number of unique values in Source column:  5\n",
      "Number of unique values in Destination column:  6\n",
      "Number of unique values in Route column:  126\n",
      "Number of unique values in Dep_Time column:  221\n",
      "Number of unique values in Arrival_Time column:  1334\n",
      "Number of unique values in Duration column:  367\n",
      "Number of unique values in Total_Stops column:  5\n",
      "Number of unique values in Additional_Info column:  10\n"
     ]
    }
   ],
   "source": [
    "# Code for part 2.2\n",
    "\n",
    "# finding the number of unique values\n",
    "import pandas as pd\n",
    "\n",
    "# get the data\n",
    "planes = pd.read_csv('12_datasets/planes.csv')\n",
    "\n",
    "# filter the DataFrame for object columns\n",
    "non_numeric = planes.select_dtypes('object')\n",
    "\n",
    "# loop through columns\n",
    "for col in non_numeric.columns:\n",
    "    print(f\"Number of unique values in {col} column: \", non_numeric[col].nunique())\n"
   ],
   "metadata": {
    "collapsed": false,
    "ExecuteTime": {
     "end_time": "2024-01-23T18:24:36.108809700Z",
     "start_time": "2024-01-23T18:24:36.038360200Z"
    }
   },
   "id": "97ad242db279e3f5"
  },
  {
   "cell_type": "code",
   "execution_count": 12,
   "outputs": [
    {
     "name": "stdout",
     "output_type": "stream",
     "text": [
      "0        19h\n",
      "1     5h 25m\n",
      "2     4h 45m\n",
      "3     2h 25m\n",
      "4    15h 30m\n",
      "Name: Duration, dtype: object\n"
     ]
    },
    {
     "data": {
      "text/plain": "<Figure size 640x480 with 1 Axes>",
      "image/png": "[encoded data removed]"
     },
     "metadata": {},
     "output_type": "display_data"
    }
   ],
   "source": [
    "# Code for part 2.2 (continue)\n",
    "\n",
    "# flight duration categories\n",
    "import numpy as np\n",
    "import seaborn as sns\n",
    "import matplotlib.pyplot as plt\n",
    "\n",
    "# check column 'duration' values\n",
    "print(planes['Duration'].head())\n",
    "\n",
    "# create a list of categories\n",
    "flight_categories = ['Short-haul', 'Medium', 'Long-haul']\n",
    "\n",
    "# create short-haul values\n",
    "short_flights = \"^0h|^1h|^2h|^3h|^4h\"\n",
    "\n",
    "# create medium-haul values\n",
    "medium_flights = \"^5h|^6h|^7h|^8h|^9h\"\n",
    "\n",
    "# create long-haul values\n",
    "long_flights = \"10h|11h|12h|13h|14h|15h|16h\"\n",
    "\n",
    "# create conditions for values in flight_categories to be created\n",
    "conditions = [\n",
    "    planes['Duration'].str.contains(short_flights).astype(bool),\n",
    "    planes['Duration'].str.contains(medium_flights).astype(bool),\n",
    "    planes['Duration'].str.contains(long_flights).astype(bool)\n",
    "]\n",
    "\n",
    "# apply the condition list to the flight categories\n",
    "planes['Duration_Category'] = np.select(conditions, flight_categories, default='Extreme duration')\n",
    "\n",
    "# plot the counts of each category\n",
    "sns.countplot(data=planes, x='Duration_Category')\n",
    "plt.show()\n"
   ],
   "metadata": {
    "collapsed": false,
    "ExecuteTime": {
     "end_time": "2024-01-23T18:24:36.339007100Z",
     "start_time": "2024-01-23T18:24:36.076893600Z"
    }
   },
   "id": "ae01d15f3ef2415d"
  },
  {
   "cell_type": "markdown",
   "source": [
    "#### Part 2.3 Working with numeric data\n",
    "\n",
    "* Common tasks when working with numeric data:\n",
    "    1. Converting strings to numbers\n",
    "        * Use *'.str.replace()'* to remove unwanted symbols like commas\n",
    "        * Use *'.astype()'* to convert column types\n",
    "        * Use *'.groupby()'* to get summary statistics \n",
    "        * Use *'.groupby()'* and *'.transform(lambda x:)'* to add summary statistics into a DataFrame"
   ],
   "metadata": {
    "collapsed": false
   },
   "id": "586bea736ac3e2ad"
  },
  {
   "cell_type": "code",
   "execution_count": 42,
   "outputs": [
    {
     "data": {
      "text/plain": "<Figure size 640x480 with 1 Axes>",
      "image/png": "[encoded data removed]"
     },
     "metadata": {},
     "output_type": "display_data"
    }
   ],
   "source": [
    "# Part 2.3\n",
    "\n",
    "# flight duration\n",
    "import pandas as pd\n",
    "import seaborn as sns\n",
    "import matplotlib.pyplot as plt\n",
    "\n",
    "# get the data\n",
    "planes = pd.read_csv('12_datasets/planes.csv')\n",
    "# print(planes.info())\n",
    "\n",
    "# change the column 'Duration' format to create a new column 'Duration_hour'\n",
    "def convert_to_hours(duration):\n",
    "    \n",
    "    parts = duration.replace('h', '').replace('m', '').split()\n",
    "    hours = int(parts[0])\n",
    "    minutes = int(parts[1]) if len(parts) > 1 else 0\n",
    "    total_hours = hours + minutes/ 60\n",
    "    return str(total_hours) + 'h'\n",
    "    \n",
    "planes['Duration_hour'] = planes['Duration'].apply(lambda x: convert_to_hours(x) if isinstance(x, str) else x)\n",
    "\n",
    "# remove the string character\n",
    "planes['Duration_new'] = planes['Duration_hour'].str.replace(\"h\", \"\")\n",
    "\n",
    "# convert to float data type\n",
    "planes['Duration_new'] = planes['Duration_new'].astype(float)\n",
    "\n",
    "# plot a histogram\n",
    "sns.histplot(data=planes, x='Duration_new')\n",
    "plt.show()"
   ],
   "metadata": {
    "collapsed": false,
    "ExecuteTime": {
     "end_time": "2024-01-23T19:38:34.998013400Z",
     "start_time": "2024-01-23T19:38:34.763232300Z"
    }
   },
   "id": "94d0c8c18b8f2aba"
  },
  {
   "cell_type": "code",
   "execution_count": 37,
   "outputs": [
    {
     "name": "stdout",
     "output_type": "stream",
     "text": [
      "Airline            airline_price_st_dev\n",
      "Jet Airways        4230.748840             3685\n",
      "IndiGo             2266.753552             1981\n",
      "Air India          3865.871975             1686\n",
      "Multiple carriers  3763.674706             1148\n",
      "SpiceJet           1790.851944              787\n",
      "Vistara            2864.267802              455\n",
      "Air Asia           2016.738954              309\n",
      "GoAir              2790.815129              182\n",
      "Name: count, dtype: int64\n",
      "Airline            airline_median_duration\n",
      "Jet Airways        13.333333                  3685\n",
      "IndiGo             2.916667                   1981\n",
      "Air India          15.916667                  1686\n",
      "Multiple carriers  10.250000                  1148\n",
      "SpiceJet           2.500000                    787\n",
      "Vistara            3.166667                    455\n",
      "Air Asia           2.833333                    309\n",
      "GoAir              5.166667                    182\n",
      "Name: count, dtype: int64\n"
     ]
    }
   ],
   "source": [
    "# Part 2.3 (continue)\n",
    "\n",
    "# adding descriptive statistics\n",
    "\n",
    "# price standard deviation by Airline\n",
    "planes['airline_price_st_dev'] = planes.groupby('Airline')['Price'].transform(lambda x: x.std())\n",
    "print(planes[['Airline', 'airline_price_st_dev']].value_counts())\n",
    "\n",
    "# median duration by airline\n",
    "planes['airline_median_duration'] = planes.groupby('Airline')['Duration_new'].transform(lambda x: x.median())\n",
    "print(planes[['Airline', 'airline_median_duration']].value_counts())\n",
    "\n",
    "# mean price by destination\n",
    "planes['price_destination_mean'] = planes.groupby('Destination')['Price'].transform(lambda x: x.mean())\n",
    "print(planes[['Destination', 'price_destination_mean']].value_counts())"
   ],
   "metadata": {
    "collapsed": false,
    "ExecuteTime": {
     "end_time": "2024-01-23T19:18:08.291699200Z",
     "start_time": "2024-01-23T19:18:08.271194Z"
    }
   },
   "id": "529212e10b69e684"
  },
  {
   "cell_type": "markdown",
   "source": [
    "#### Part 2.4 Handling outliers\n",
    "\n",
    "* An outlier is an observation that is **far away** from other data points\n",
    "* *'.describe()'* is the starting place to identify outliers\n",
    "* *.boxplot()* and *IQR(interquartile range)* can identify outliers as well\n",
    "* Use *'.quantile()'* to calculate percentile\n",
    "    * IQR = 75th – 25th percentile\n",
    "    * Upper outliers > 75th percentile + 1.5 * IQR\n",
    "    * Lower outliers < 25th percentile - 1.5 * IQR\n",
    "        \n",
    "**Why looking for outliers?**\n",
    "* Outliers are extreme values, may not accurately represent the data\n",
    "* Can change the mean and standard deviation\n",
    "* Statistical tests and machine learning models need normally distributed data\n",
    "\n",
    "**Questions to ask:**\n",
    "* Why do they exist?\n",
    "* Is the data accurate?"
   ],
   "metadata": {
    "collapsed": false
   },
   "id": "5b5e4ddd05b6dc1b"
  },
  {
   "cell_type": "code",
   "execution_count": 43,
   "outputs": [
    {
     "data": {
      "text/plain": "<Figure size 640x480 with 1 Axes>",
      "image/png": "[encoded data removed]"
     },
     "metadata": {},
     "output_type": "display_data"
    },
    {
     "name": "stdout",
     "output_type": "stream",
     "text": [
      "count    10446.000000\n",
      "mean        10.724288\n",
      "std          8.471857\n",
      "min          1.250000\n",
      "25%          2.833333\n",
      "50%          8.666667\n",
      "75%         15.500000\n",
      "max         47.666667\n",
      "Name: Duration_new, dtype: float64\n"
     ]
    }
   ],
   "source": [
    "# Code for part 2.4\n",
    "\n",
    "# identifying outliers\n",
    "import pandas as pd\n",
    "import seaborn as sns\n",
    "import matplotlib.pyplot as plt\n",
    "\n",
    "# get the data\n",
    "# planes = pd.read_csv('12_datasets/planes.csv')\n",
    "\n",
    "# plot a histogram of flight prices\n",
    "sns.histplot(data=planes, x='Price')\n",
    "plt.show()\n",
    "\n",
    "# descriptive statistics for flight duration\n",
    "print(planes['Duration_new'].describe())"
   ],
   "metadata": {
    "collapsed": false,
    "ExecuteTime": {
     "end_time": "2024-01-23T19:38:38.854461500Z",
     "start_time": "2024-01-23T19:38:38.606185300Z"
    }
   },
   "id": "deb16366b5ee7295"
  },
  {
   "cell_type": "code",
   "execution_count": 45,
   "outputs": [
    {
     "name": "stdout",
     "output_type": "stream",
     "text": [
      "count     9959.000000\n",
      "mean      8875.160860\n",
      "std       4057.202002\n",
      "min       1759.000000\n",
      "25%       5228.000000\n",
      "50%       8283.000000\n",
      "75%      12284.000000\n",
      "max      23001.000000\n",
      "Name: Price, dtype: float64\n"
     ]
    }
   ],
   "source": [
    "# Code for part 2.4\n",
    "\n",
    "# removing outliers\n",
    "\n",
    "# find the 75th and 25th percentile\n",
    "price_seventy_fifth = planes['Price'].quantile(0.75)\n",
    "price_twenty_fifth = planes['Price'].quantile(0.25)\n",
    "\n",
    "# calculate iqr\n",
    "prices_iqr = price_seventy_fifth - price_twenty_fifth\n",
    "\n",
    "# calculate the threshold\n",
    "upper = price_seventy_fifth + 1.5 * prices_iqr\n",
    "lower = price_twenty_fifth - 1.5 * prices_iqr\n",
    "\n",
    "# subset the data\n",
    "planes = planes[(planes['Price'] < upper) & (planes['Price'] > lower)]\n",
    "print(planes[\"Price\"].describe())"
   ],
   "metadata": {
    "collapsed": false,
    "ExecuteTime": {
     "end_time": "2024-01-23T19:43:57.799683300Z",
     "start_time": "2024-01-23T19:43:57.654906400Z"
    }
   },
   "id": "72c355eadd3255eb"
  },
  {
   "cell_type": "markdown",
   "source": [
    "### CHAPTER 3. Relationships in Data\n",
    "\n",
    "#### Part 3.1 Patterns over time\n",
    "\n",
    "* "
   ],
   "metadata": {
    "collapsed": false
   },
   "id": "61457e160395f196"
  },
  {
   "cell_type": "code",
   "execution_count": null,
   "outputs": [],
   "source": [],
   "metadata": {
    "collapsed": false
   },
   "id": "1d0695eb45a03672"
  },
  {
   "cell_type": "code",
   "execution_count": null,
   "outputs": [],
   "source": [],
   "metadata": {
    "collapsed": false
   },
   "id": "9045ddc8a173cc38"
  }
 ],
 "metadata": {
  "kernelspec": {
   "display_name": "Python 3",
   "language": "python",
   "name": "python3"
  },
  "language_info": {
   "codemirror_mode": {
    "name": "ipython",
    "version": 2
   },
   "file_extension": ".py",
   "mimetype": "text/x-python",
   "name": "python",
   "nbconvert_exporter": "python",
   "pygments_lexer": "ipython2",
   "version": "2.7.6"
  }
 },
 "nbformat": 4,
 "nbformat_minor": 5
}
