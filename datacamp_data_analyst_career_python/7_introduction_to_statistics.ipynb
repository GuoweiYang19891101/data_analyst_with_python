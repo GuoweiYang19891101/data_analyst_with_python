{
 "cells": [
  {
   "cell_type": "markdown",
   "source": [
    "## Introduction to Statistics in Python\n",
    "\n",
    "**Course Structure:**\n",
    "* Chapter 1. Summary Statistics\n",
    "* Chapter 2. Random Number and Statistics\n",
    "* Chapter 3. More Distributions and Central Limit Theorem\n",
    "* Chapter 4. Correlation and Experimental Design\n",
    "\n",
    "### CHAPTER 1. Summary Statistics\n",
    "\n",
    "#### Part 1.1 Descriptive and inferential statistics\n",
    "\n",
    "**Statistics:**\n",
    "* It is the practice and study of **collecting and analyzing data**\n",
    "* Summary statistics -> fact about or summary of some data\n",
    "* Two branches of statistics:\n",
    "    1. Descriptive statistics -> describing and summarizing data\n",
    "    2. Inferential statistics -> use a sample of data to make *inferences* about a larger population\n",
    "* Types of data:\n",
    "    1. Numeric (continuous or discrete)\n",
    "    2. Categorical (nominal or ordinal)"
   ],
   "metadata": {
    "collapsed": false
   },
   "id": "69f2f7b4e92bedff"
  },
  {
   "cell_type": "markdown",
   "source": [
    "#### Part 1.2 Measure of center\n",
    "\n",
    "* Histogram is a great way to visually summarize the data\n",
    "* The centers of the data:\n",
    "    * Mean -> add up all values and divide by the total number of points\n",
    "    * Median -> 50% of the data is lower than it, 50% of the data is higher\n",
    "    * Mode -> the most frequent value\n",
    "* Mean is more sensitive to extreme values, it works better for symmetrical data\n",
    "* If the data is skewed, median is usually better to use"
   ],
   "metadata": {
    "collapsed": false
   },
   "id": "462ef2d1ce4b2f18"
  },
  {
   "cell_type": "code",
   "execution_count": 50,
   "outputs": [
    {
     "name": "stdout",
     "output_type": "stream",
     "text": [
      "     country food_category  consumption  co2_emission\n",
      "0  Argentina          pork        10.51         37.20\n",
      "1  Argentina       poultry        38.66         41.53\n",
      "2  Argentina          beef        55.48       1712.00\n",
      "3  Argentina     lamb_goat         1.56         54.63\n",
      "4  Argentina          fish         4.36          6.96\n"
     ]
    }
   ],
   "source": [
    "# prepare data \n",
    "import pandas as pd\n",
    "import numpy as np\n",
    "\n",
    "# get the data\n",
    "file_names = ['7_datasets/country.txt', '7_datasets/food_category.txt', '7_datasets/consumption.txt', '7_datasets/co2_emission.txt']\n",
    "\n",
    "# country = []\n",
    "with open('7_datasets/country.txt', 'r') as file:\n",
    "    country = file.read()\n",
    "        # cleaned_line = line.replace('[', '').replace(']', '').replace('\"', '').replace('\\n', '')\n",
    "        # country.append(cleaned_line)   \n",
    "# country = np.loadtxt(country)\n",
    "\n",
    "country = country.replace(\"'\", \"\").replace('[', '').replace(']', '').replace(' ', '').replace('\\n', '')\n",
    "country = country.split(',')\n",
    "\n",
    "# food_category = []\n",
    "with open('7_datasets/food_category.txt', 'r') as file:\n",
    "    food_category = file.read()\n",
    "    # for line in file:\n",
    "    #     cleaned_line = line.replace('[', '').replace(']', '').replace('\"', '').replace('\\n', '')\n",
    "    #     food_category.append(cleaned_line)\n",
    "# food_category = np.loadtxt(food_category)\n",
    "food_category = food_category.replace(\"'\", \"\").replace('[', '').replace(']', '').replace(' ', '').replace('\\n', '')\n",
    "food_category = food_category.split(',')\n",
    "\n",
    "consumption = []\n",
    "with open('7_datasets/consumption.txt', 'r') as file:\n",
    "    for line in file:\n",
    "        cleaned_line = line.replace('[', '').replace(']', '').replace(',', '')\n",
    "        consumption.append(cleaned_line)\n",
    "consumption = np.loadtxt(consumption)\n",
    "\n",
    "co2_emission = []\n",
    "with open('7_datasets/co2_emission.txt', 'r') as file:\n",
    "    for line in file:\n",
    "        cleaned_line = line.replace('[', '').replace(']', '').replace(',', '')\n",
    "        co2_emission.append(cleaned_line)  \n",
    "co2_emission = np.loadtxt(co2_emission)\n",
    "        \n",
    "food_consumption = pd.DataFrame({'country':country,\n",
    "                                 'food_category':food_category,\n",
    "                                 'consumption':consumption,\n",
    "                                 'co2_emission': co2_emission})\n",
    "print(food_consumption.head())\n",
    "food_consumption.to_csv('7_datasets/food_consumption.csv', index=False, header=1)"
   ],
   "metadata": {
    "collapsed": false,
    "ExecuteTime": {
     "end_time": "2024-01-10T16:33:05.946842500Z",
     "start_time": "2024-01-10T16:33:05.594058100Z"
    }
   },
   "id": "ba7cd13340c602b1"
  },
  {
   "cell_type": "code",
   "execution_count": 51,
   "outputs": [
    {
     "name": "stdout",
     "output_type": "stream",
     "text": [
      "42.13272727272727\n",
      "12.59\n",
      "44.650000000000006\n",
      "14.58\n"
     ]
    }
   ],
   "source": [
    "# Code for part 1.2\n",
    "\n",
    "# mean and median\n",
    "import numpy as np\n",
    "import pandas as pd\n",
    "\n",
    "# load the data\n",
    "food_consumption = pd.read_csv('7_datasets/food_consumption.csv')\n",
    "\n",
    "\n",
    "# filter for Belgium\n",
    "be_consumption = food_consumption[food_consumption['country'] == 'Belgium']\n",
    "\n",
    "\n",
    "# filter for USA\n",
    "usa_consumption = food_consumption[food_consumption['country'] == 'USA']\n",
    "\n",
    "# calculate mean and median consumption in Belgium\n",
    "print(be_consumption['consumption'].agg(np.mean))\n",
    "print(be_consumption['consumption'].agg(np.median))\n",
    "\n",
    "# calculate mean and median consumption in USA\n",
    "print(usa_consumption['consumption'].agg(np.mean))\n",
    "print(usa_consumption['consumption'].agg(np.median))"
   ],
   "metadata": {
    "collapsed": false,
    "ExecuteTime": {
     "end_time": "2024-01-10T16:33:05.950831600Z",
     "start_time": "2024-01-10T16:33:05.644027600Z"
    }
   },
   "id": "1808443be3d835e3"
  },
  {
   "cell_type": "code",
   "execution_count": 52,
   "outputs": [
    {
     "name": "stdout",
     "output_type": "stream",
     "text": [
      "              mean  median\n",
      "country                   \n",
      "Belgium  42.132727   12.59\n",
      "USA      44.650000   14.58\n"
     ]
    }
   ],
   "source": [
    "# Code for part 1.2 (continue)\n",
    "\n",
    "# subset for Belgium and USA only\n",
    "be_and_usa = food_consumption[(food_consumption['country'] == 'Belgium') | (food_consumption['country'] == 'USA')]\n",
    "\n",
    "# group by country, select consumption column, and compute mean and median\n",
    "print(be_and_usa.groupby('country')['consumption'].agg([np.mean, np.median]))"
   ],
   "metadata": {
    "collapsed": false,
    "ExecuteTime": {
     "end_time": "2024-01-10T16:33:05.950831600Z",
     "start_time": "2024-01-10T16:33:05.652139800Z"
    }
   },
   "id": "614750e5cf98c82b"
  },
  {
   "cell_type": "code",
   "execution_count": 53,
   "outputs": [
    {
     "name": "stdout",
     "output_type": "stream",
     "text": [
      "mean      37.591615\n",
      "median    15.200000\n",
      "Name: co2_emission, dtype: float64\n"
     ]
    },
    {
     "data": {
      "text/plain": "<Figure size 640x480 with 1 Axes>",
      "image/png": "[encoded data removed]"
     },
     "metadata": {},
     "output_type": "display_data"
    }
   ],
   "source": [
    "# Code for part 1.2 (continue)\n",
    "\n",
    "# mean vs. median\n",
    "import matplotlib.pyplot as plt\n",
    "\n",
    "# subset for food_category equals rice\n",
    "rice_consumption = food_consumption[food_consumption['food_category'] == 'rice']\n",
    "\n",
    "# calculate mean and median of co2_emission with .agg()\n",
    "print(rice_consumption['co2_emission'].agg([np.mean, np.median]))\n",
    "\n",
    "# histogram of co2_emission for rice and show plot\n",
    "rice_consumption['co2_emission'].hist()\n",
    "plt.show()"
   ],
   "metadata": {
    "collapsed": false,
    "ExecuteTime": {
     "end_time": "2024-01-10T16:33:05.952826900Z",
     "start_time": "2024-01-10T16:33:05.660590400Z"
    }
   },
   "id": "8fb9eb7a00551c91"
  },
  {
   "cell_type": "markdown",
   "source": [
    "#### Part 1.3 Measure of spread\n",
    "\n",
    "* Spread describes how spread apart or close together the data points are\n",
    "* A few different measures of spread:\n",
    "    * Variance -> distance of data points to mean\n",
    "    * Standard deviation -> square root of the variance\n",
    "    * Mean absolute deviation -> absolute value of the distance to the mean\n",
    "    * Interquartile range (IQR) -> distance between 25th and 75th percentile\n",
    "    * Outliers -> $data < Q1 - 1.5 \\times IQR$; $data > Q3 + 1.5 \\times IQR$"
   ],
   "metadata": {
    "collapsed": false
   },
   "id": "b0fc127b2b24abf5"
  },
  {
   "cell_type": "code",
   "execution_count": 54,
   "outputs": [
    {
     "name": "stdout",
     "output_type": "stream",
     "text": [
      "[   0.        5.21     16.53     62.5975 1712.    ]\n",
      "[   0.       3.54    11.026   25.59    99.978 1712.   ]\n",
      "[0.00000e+00 6.68000e-01 3.54000e+00 7.04000e+00 1.10260e+01 1.65300e+01\n",
      " 2.55900e+01 4.42710e+01 9.99780e+01 2.03629e+02 1.71200e+03]\n"
     ]
    }
   ],
   "source": [
    "# Code for part 1.3\n",
    "\n",
    "# quartiles, quantiles, and quintiles\n",
    "import pandas as pd\n",
    "import numpy as np\n",
    "\n",
    "# load the data\n",
    "food_consumption = pd.read_csv('7_datasets/food_consumption.csv')\n",
    "\n",
    "# calculate the quartiles of co2_emission\n",
    "print(np.quantile(food_consumption['co2_emission'], [0, 0.25, 0.5, 0.75, 1]))\n",
    "\n",
    "# calculate the quintiles of co2_emission\n",
    "# print(np.quantile(food_consumption['co2_emission'], [0, 0.2, 0.4, 0.6, 0.8, 1]))\n",
    "print(np.quantile(food_consumption['co2_emission'], np.linspace(0, 1, 6)))\n",
    "\n",
    "# calculate the deciles of co2_emission\n",
    "print(np.quantile(food_consumption['co2_emission'], np.linspace(0, 1, 11)))"
   ],
   "metadata": {
    "collapsed": false,
    "ExecuteTime": {
     "end_time": "2024-01-10T16:33:05.952826900Z",
     "start_time": "2024-01-10T16:33:05.787173100Z"
    }
   },
   "id": "290f86c76e0f4525"
  },
  {
   "cell_type": "code",
   "execution_count": 55,
   "outputs": [
    {
     "name": "stdout",
     "output_type": "stream",
     "text": [
      "                        var         std\n",
      "food_category                          \n",
      "beef           88748.408132  297.906710\n",
      "dairy          17671.891985  132.935669\n",
      "eggs              21.371819    4.622966\n",
      "fish             921.637349   30.358481\n",
      "lamb_goat      16475.518363  128.356996\n",
      "nuts              35.639652    5.969895\n",
      "pork            3094.963537   55.632396\n",
      "poultry          245.026801   15.653332\n",
      "rice            2281.376243   47.763754\n",
      "soybeans           0.879882    0.938020\n",
      "wheat             71.023937    8.427570\n"
     ]
    },
    {
     "data": {
      "text/plain": "<Figure size 640x480 with 1 Axes>",
      "image/png": "[encoded data removed]"
     },
     "metadata": {},
     "output_type": "display_data"
    },
    {
     "data": {
      "text/plain": "<Figure size 640x480 with 1 Axes>",
      "image/png": "[encoded data removed]"
     },
     "metadata": {},
     "output_type": "display_data"
    }
   ],
   "source": [
    "# Code for part 1.3 (continue)\n",
    "\n",
    "# variance and standard deviation\n",
    "import numpy as np\n",
    "import matplotlib.pyplot as plt\n",
    "\n",
    "# print variance and sd of co2_emission for each food_category\n",
    "print(food_consumption.groupby('food_category')['co2_emission'].agg([np.var, np.std]))\n",
    "\n",
    "# create histogram of co2_emission for food_category 'beef'\n",
    "food_consumption[food_consumption['food_category'] == 'beef']['co2_emission'].hist()\n",
    "plt.show()\n",
    "\n",
    "# create histogram of co2_emission for food_category 'eggs'\n",
    "food_consumption[food_consumption['food_category'] == 'eggs']['co2_emission'].hist()\n",
    "plt.show()"
   ],
   "metadata": {
    "collapsed": false,
    "ExecuteTime": {
     "end_time": "2024-01-10T16:33:06.122865800Z",
     "start_time": "2024-01-10T16:33:05.798240500Z"
    }
   },
   "id": "b955d888c43e6b21"
  },
  {
   "cell_type": "code",
   "execution_count": 56,
   "outputs": [
    {
     "name": "stdout",
     "output_type": "stream",
     "text": [
      "country\n",
      "Argentina    2172.4\n",
      "Name: co2_emission, dtype: float64\n"
     ]
    }
   ],
   "source": [
    "# Code for part 1.3 (continue)\n",
    "\n",
    "# finding outliers using IQR\n",
    "import pandas as pd\n",
    "import numpy as np\n",
    "\n",
    "# load the data\n",
    "food_consumption = pd.read_csv('7_datasets/food_consumption.csv')\n",
    "\n",
    "# calculate total co2_emission per country: emission_by_country\n",
    "emissions_by_country = food_consumption.groupby('country')['co2_emission'].agg(np.sum)\n",
    "# print(emissions_by_country)\n",
    "\n",
    "# compute the first and third quartiles and IQR of emissions_by_country\n",
    "q1 = np.quantile(emissions_by_country, 0.25)\n",
    "q3 = np.quantile(emissions_by_country, 0.75)\n",
    "iqr = q3 - q1\n",
    "\n",
    "# calculate the lower and upper cutoffs for outliers\n",
    "lower = q1 - 1.5 * iqr\n",
    "upper = q3 + 1.5 * iqr\n",
    "\n",
    "# subset emissions_by_country to find outliers\n",
    "outliers = emissions_by_country[(emissions_by_country < lower) | (emissions_by_country > upper)]\n",
    "print(outliers)"
   ],
   "metadata": {
    "collapsed": false,
    "ExecuteTime": {
     "end_time": "2024-01-10T16:33:06.125859500Z",
     "start_time": "2024-01-10T16:33:06.047878900Z"
    }
   },
   "id": "bc20c3b773fb3f0e"
  },
  {
   "cell_type": "markdown",
   "source": [
    "### CHAPTER 2. Random Numbers and Probability\n",
    "\n",
    "#### Part 2.1 What are chances?\n",
    "\n",
    "* Chance is the probability of an event\n",
    "* *'.sample()'* method randomly samples one row from the dataframe in Python\n",
    "* To ensure a reproducible result, we need to set a random seed with *'np.random.seed()'*\n",
    "* Sampling can be done **with or without a replacement**\n",
    "* **Independent events** are two events that are **not affected** by each other"
   ],
   "metadata": {
    "collapsed": false
   },
   "id": "6e56c763a77a6f90"
  },
  {
   "cell_type": "code",
   "execution_count": 57,
   "outputs": [
    {
     "data": {
      "image/png": "[encoded data removed]",
      "text/plain": "<IPython.core.display.Image object>"
     },
     "execution_count": 57,
     "metadata": {},
     "output_type": "execute_result"
    }
   ],
   "source": [
    "# display probability\n",
    "from IPython import display\n",
    "\n",
    "display.Image(\"Images/probability.png\")"
   ],
   "metadata": {
    "collapsed": false,
    "ExecuteTime": {
     "end_time": "2024-01-10T16:33:06.126858600Z",
     "start_time": "2024-01-10T16:33:06.057382400Z"
    }
   },
   "id": "2329d62c0085087"
  },
  {
   "cell_type": "code",
   "execution_count": 58,
   "outputs": [
    {
     "name": "stdout",
     "output_type": "stream",
     "text": [
      "    product   client status   amount  num_users\n",
      "0  ProductF  Current    Won  7389.52       19.0\n",
      "1  ProductC      New    Won  4493.01       43.0\n",
      "2  ProductB      New    Won  5738.09       87.0\n",
      "3  ProductI  Current    Won  2591.24       83.0\n",
      "4  ProductE  Current    Won  6622.97       17.0\n"
     ]
    }
   ],
   "source": [
    "# prepare data\n",
    "import pandas as pd\n",
    "import numpy as np\n",
    "\n",
    "# product\n",
    "with open('7_datasets/product.txt', 'r') as file:\n",
    "    product = file.read()\n",
    "product = product.replace(\"'\", \"\").replace('[', '').replace(']', '').replace(' ', '').replace('\\n', '')\n",
    "product = product.split(',')\n",
    "\n",
    "# client\n",
    "with open('7_datasets/client.txt', 'r') as file:\n",
    "    client = file.read()\n",
    "client = client.replace(\"'\", \"\").replace('[', '').replace(']', '').replace(' ', '').replace('\\n', '')\n",
    "client = client.split(',')\n",
    "\n",
    "# status\n",
    "with open('7_datasets/status.txt', 'r') as file:\n",
    "    status = file.read()\n",
    "\n",
    "status = status.replace(\"'\", \"\").replace('[', '').replace(']', '').replace(' ', '').replace('\\n', '')\n",
    "status = status.split(',')\n",
    "\n",
    "# amount\n",
    "amount = []\n",
    "with open('7_datasets/amount.txt', 'r') as file:\n",
    "    for line in file:\n",
    "        cleaned_line = line.replace('[', '').replace(']', '').replace(',', '')\n",
    "        amount.append(cleaned_line)\n",
    "amount = np.loadtxt(amount)\n",
    "\n",
    "# num_users\n",
    "num_users = []\n",
    "with open('7_datasets/num_users.txt', 'r') as file:\n",
    "    for line in file:\n",
    "        cleaned_line = line.replace('[', '').replace(']', '').replace(',', '')\n",
    "        num_users.append(cleaned_line)\n",
    "num_users = np.loadtxt(num_users)\n",
    "\n",
    "amir_deals = pd.DataFrame({'product':product,\n",
    "                                 'client':client,\n",
    "                                 'status':status,\n",
    "                                 'amount': amount,\n",
    "                                 'num_users': num_users})\n",
    "print(amir_deals.head())\n",
    "amir_deals.to_csv('7_datasets/amir_deals.csv', index=False, header=1)"
   ],
   "metadata": {
    "collapsed": false,
    "ExecuteTime": {
     "end_time": "2024-01-10T16:33:06.143992200Z",
     "start_time": "2024-01-10T16:33:06.068480200Z"
    }
   },
   "id": "9d2b34f8193ca57b"
  },
  {
   "cell_type": "code",
   "execution_count": 59,
   "outputs": [
    {
     "name": "stdout",
     "output_type": "stream",
     "text": [
      "product\n",
      "ProductB    62\n",
      "ProductD    40\n",
      "ProductA    23\n",
      "ProductC    15\n",
      "ProductF    11\n",
      "ProductH     8\n",
      "ProductI     7\n",
      "ProductE     5\n",
      "ProductN     3\n",
      "ProductG     2\n",
      "ProductJ     2\n",
      "Name: count, dtype: int64\n",
      "product\n",
      "ProductB    0.348315\n",
      "ProductD    0.224719\n",
      "ProductA    0.129213\n",
      "ProductC    0.084270\n",
      "ProductF    0.061798\n",
      "ProductH    0.044944\n",
      "ProductI    0.039326\n",
      "ProductE    0.028090\n",
      "ProductN    0.016854\n",
      "ProductG    0.011236\n",
      "ProductJ    0.011236\n",
      "Name: count, dtype: float64\n",
      "      product   client status   amount  num_users\n",
      "127  ProductB  Current    Won  2070.25        7.0\n",
      "148  ProductD  Current    Won  3485.48       52.0\n",
      "77   ProductB  Current    Won  6252.30       27.0\n",
      "104  ProductD  Current    Won  4110.98       39.0\n",
      "166  ProductC      New   Lost  3779.86       11.0\n",
      "      product   client status   amount  num_users\n",
      "133  ProductD  Current    Won  5992.86       98.0\n",
      "101  ProductH  Current    Won  5116.34       63.0\n",
      "110  ProductB  Current    Won   696.88       44.0\n",
      "49   ProductB  Current    Won  3488.36       79.0\n",
      "56   ProductD  Current    Won  6820.84       42.0\n"
     ]
    }
   ],
   "source": [
    "# Code for part 2.1 \n",
    "\n",
    "# calculating probabilities\n",
    "import pandas as pd\n",
    "import numpy as np\n",
    "\n",
    "# get the data\n",
    "amir_deals = pd.read_csv('7_datasets/amir_deals.csv')\n",
    "\n",
    "# count the deals for each product\n",
    "counts = amir_deals['product'].value_counts()\n",
    "print(counts)\n",
    "\n",
    "# calculate the probability of picking a deal with each product\n",
    "probs = counts/ counts.sum()\n",
    "print(probs)\n",
    "\n",
    "# set random seed\n",
    "np.random.seed(24)\n",
    "\n",
    "# sample 5 deals without replacement\n",
    "sample_without_replacement = amir_deals.sample(5, replace=False)\n",
    "print(sample_without_replacement)\n",
    "\n",
    "# sample 5 deals with replacement\n",
    "sample_with_replacement = amir_deals.sample(5, replace=True)\n",
    "print(sample_with_replacement)"
   ],
   "metadata": {
    "collapsed": false,
    "ExecuteTime": {
     "end_time": "2024-01-10T16:33:06.156957300Z",
     "start_time": "2024-01-10T16:33:06.120870600Z"
    }
   },
   "id": "fe7fa87629c88df3"
  },
  {
   "cell_type": "markdown",
   "source": [
    "#### Part 2.2 Discrete distributions\n",
    "\n",
    "* **Probability distribution** describes the probability of each possible outcome in a scenario\n",
    "* Calculate probabilities of different outcomes by taking **areas** of the probability distribution **(probability = area)**\n",
    "* **Discrete distributions** represent situations with **discrete outcomes**\n",
    "* **Law of large numbers**: As the size of your sample increases, the sample mean will approach the expected value"
   ],
   "metadata": {
    "collapsed": false
   },
   "id": "c8faa01b3c5c24cc"
  },
  {
   "cell_type": "code",
   "execution_count": 60,
   "outputs": [],
   "source": [
    "# prepare the data\n",
    "\n",
    "import pandas as pd\n",
    "group_id = ['A', 'B', 'C', 'D', 'E', 'F', 'G', 'H', 'I', 'J']\n",
    "group_size = [2, 4, 6, 2, 2, 2, 3, 2, 4, 2]\n",
    "\n",
    "restaurant_groups = pd.DataFrame({'group_id': group_id,\n",
    "                                  'group_size': group_size})\n",
    "restaurant_groups.to_csv('7_datasets/restaurant_groups.csv', index=False, header=1)"
   ],
   "metadata": {
    "collapsed": false,
    "ExecuteTime": {
     "end_time": "2024-01-10T16:33:06.269092800Z",
     "start_time": "2024-01-10T16:33:06.135018300Z"
    }
   },
   "id": "c74a8a5b219132d0"
  },
  {
   "cell_type": "code",
   "execution_count": 61,
   "outputs": [
    {
     "data": {
      "text/plain": "<Figure size 640x480 with 1 Axes>",
      "image/png": "[encoded data removed]"
     },
     "metadata": {},
     "output_type": "display_data"
    }
   ],
   "source": [
    "# Code for part 2.2\n",
    "\n",
    "# creating a probability distribution\n",
    "import pandas as pd\n",
    "import matplotlib.pyplot as plt\n",
    "\n",
    "# get the data\n",
    "restaurant_groups = pd.read_csv('7_datasets/restaurant_groups.csv')\n",
    "\n",
    "# create a histogram of restaurant_groups and show plot\n",
    "restaurant_groups['group_size'].hist(bins=[2, 3, 4, 5, 6])\n",
    "plt.show()"
   ],
   "metadata": {
    "collapsed": false,
    "ExecuteTime": {
     "end_time": "2024-01-10T16:33:06.299492Z",
     "start_time": "2024-01-10T16:33:06.173321500Z"
    }
   },
   "id": "f8efb0530c4fd243"
  },
  {
   "cell_type": "code",
   "execution_count": 62,
   "outputs": [
    {
     "name": "stdout",
     "output_type": "stream",
     "text": [
      "   group_size  prob\n",
      "0           2   0.6\n",
      "1           4   0.2\n",
      "2           6   0.1\n",
      "3           3   0.1\n",
      "Expected value: 2.9000000000000004\n",
      "   group_size  prob\n",
      "1           4   0.2\n",
      "2           6   0.1\n",
      "0.30000000000000004\n"
     ]
    }
   ],
   "source": [
    "# create a probability distribution\n",
    "\n",
    "size_dist = restaurant_groups['group_size'].value_counts() / len(restaurant_groups['group_size'])\n",
    "# print(size_dist)\n",
    "\n",
    "# reset index and rename columns\n",
    "size_dist = size_dist.reset_index()\n",
    "size_dist.columns = ['group_size', 'prob']\n",
    "print(size_dist)\n",
    "\n",
    "# calculate expected value\n",
    "expected_value = sum(size_dist['group_size'] * size_dist['prob'])\n",
    "print('Expected value:', expected_value)\n",
    "\n",
    "# subset groups of size 4 or more\n",
    "groups_4_or_more = size_dist[size_dist['group_size'] >= 4]\n",
    "print(groups_4_or_more)\n",
    "\n",
    "# sum the probabilities of groups_4_or_more\n",
    "prob_4_or_more = sum(groups_4_or_more['prob'])\n",
    "print(prob_4_or_more)"
   ],
   "metadata": {
    "collapsed": false,
    "ExecuteTime": {
     "end_time": "2024-01-10T16:33:06.338104Z",
     "start_time": "2024-01-10T16:33:06.298467200Z"
    }
   },
   "id": "f6d11d82ffa3292c"
  },
  {
   "cell_type": "markdown",
   "source": [
    "#### Part 2.3 Continuous distribution\n",
    "\n",
    "* Example: Waiting for the bus (random time)\n",
    "* The probability distribution is similar to discrete distribution\n",
    "* We can't create individual blocks because it has no discrete variable\n",
    "* Again, **probability still = area**\n",
    "* *'from scipy.stats import uniform'* module\n",
    "* Use *'uniform.cdf()'* method to calculate the less than probability\n",
    "* Generate random numbers according to uniform distribution with *'uniform.rvs()'* method"
   ],
   "metadata": {
    "collapsed": false
   },
   "id": "2f93a99383afc7b4"
  },
  {
   "cell_type": "code",
   "execution_count": 63,
   "outputs": [
    {
     "name": "stdout",
     "output_type": "stream",
     "text": [
      "0.16666666666666666\n",
      "0.8333333333333334\n",
      "0.3333333333333333\n"
     ]
    }
   ],
   "source": [
    "# Code for part 2.3\n",
    "\n",
    "# data back-ups\n",
    "from scipy.stats import uniform\n",
    "\n",
    "# set limits\n",
    "min_time = 0\n",
    "max_time = 30\n",
    "\n",
    "# calculate the probability of waiting less than 5 mins\n",
    "prob_less_than_5 = uniform.cdf(5, min_time, max_time)\n",
    "print(prob_less_than_5)\n",
    "\n",
    "# calculate the probability of waiting more than 5 mins\n",
    "prob_greater_than_5 = 1 - uniform.cdf(5, min_time, max_time)\n",
    "print(prob_greater_than_5)\n",
    "\n",
    "# calculate the probability of waiting 10-20 mins\n",
    "prob_between_10_and_20 = uniform.cdf(20, min_time, max_time) - uniform.cdf(10, min_time, max_time)\n",
    "print(prob_between_10_and_20)\n",
    "\n"
   ],
   "metadata": {
    "collapsed": false,
    "ExecuteTime": {
     "end_time": "2024-01-10T16:33:06.339073600Z",
     "start_time": "2024-01-10T16:33:06.312826600Z"
    }
   },
   "id": "fb41eea3adb42d19"
  },
  {
   "cell_type": "code",
   "execution_count": 64,
   "outputs": [
    {
     "data": {
      "text/plain": "<Figure size 640x480 with 1 Axes>",
      "image/png": "[encoded data removed]"
     },
     "metadata": {},
     "output_type": "display_data"
    }
   ],
   "source": [
    "# Code for part 2.3 (continue)\n",
    "\n",
    "# simulating wait times\n",
    "import numpy as np\n",
    "from scipy.stats import uniform\n",
    "import matplotlib.pyplot as plt\n",
    "\n",
    "# set random seed to 334\n",
    "np.random.seed(334)\n",
    "\n",
    "# generate 1000 wait times between 0 and 30 mins\n",
    "wait_times = uniform.rvs(min_time, max_time, size=1000)\n",
    "\n",
    "# create a histogram of simulated times and show plot\n",
    "plt.hist(wait_times)\n",
    "plt.show()"
   ],
   "metadata": {
    "collapsed": false,
    "ExecuteTime": {
     "end_time": "2024-01-10T16:33:06.434710900Z",
     "start_time": "2024-01-10T16:33:06.318131100Z"
    }
   },
   "id": "d30097f3631426b"
  },
  {
   "cell_type": "markdown",
   "source": [
    "#### Part 2.4 Binomial distribution\n",
    "\n",
    "* It starts with an event has **binary outcomes**\n",
    "* The binomial distribution describes the probability of the number of successes in a sequence of independent trails\n",
    "* Described by $n$ and $p$:\n",
    "    * $n$: total number of trails\n",
    "    * $p$: probability of success\n",
    "* Expected value: $ n \\times p $\n",
    "* Use *'from scipy.stats import binom'* module \n",
    "* Use *'binom.rvs()'* to generate/simulate binomial distribution\n",
    "* Use *'binom.pmf()'* to get the probability of a certain amount of success\n",
    "* Use *'binom.cdf()'* to get the probability of fewer than a certain amount of success"
   ],
   "metadata": {
    "collapsed": false
   },
   "id": "2c25008c980d247a"
  },
  {
   "cell_type": "code",
   "execution_count": 65,
   "outputs": [
    {
     "name": "stdout",
     "output_type": "stream",
     "text": [
      "[1]\n",
      "[0]\n",
      "0.8461538461538461\n"
     ]
    }
   ],
   "source": [
    "# Code for part 2.4\n",
    "\n",
    "# simulating sales deals\n",
    "import numpy as np\n",
    "from scipy.stats import binom\n",
    "\n",
    "# set random seed to 10\n",
    "np.random.seed(10)\n",
    "\n",
    "# simulate a single deal\n",
    "print(binom.rvs(1, 0.3, size=1))\n",
    "\n",
    "# simulate 1 week of 3 deals\n",
    "print(binom.rvs(3, 0.3, size=1))\n",
    "\n",
    "# simulate 52 weeks of 3 deals\n",
    "deals = binom.rvs(3, 0.3, size=52)\n",
    "\n",
    "# print mean deals won per week\n",
    "print(np.mean(deals))"
   ],
   "metadata": {
    "collapsed": false,
    "ExecuteTime": {
     "end_time": "2024-01-10T16:33:06.445172300Z",
     "start_time": "2024-01-10T16:33:06.436706400Z"
    }
   },
   "id": "5a9208cceec6a683"
  },
  {
   "cell_type": "code",
   "execution_count": 66,
   "outputs": [
    {
     "name": "stdout",
     "output_type": "stream",
     "text": [
      "0.026999999999999996\n",
      "0.784\n",
      "0.21599999999999997\n"
     ]
    }
   ],
   "source": [
    "# Code for part 2.4 (continue)\n",
    "\n",
    "# calculating binomial distribution\n",
    "from scipy.stats import binom\n",
    "\n",
    "# probability of closing 3 out of 3 deals\n",
    "prob_3 = binom.pmf(3, 3, 0.3)\n",
    "print(prob_3)\n",
    "\n",
    "# probability of closing <=1 out of 3 deals\n",
    "prob_less_or_equal_1 = binom.cdf(1, 3, 0.3)\n",
    "print(prob_less_or_equal_1)\n",
    "\n",
    "# probability of clsoing >1 out of 3 deals\n",
    "prob_greater_than_1 = 1 - binom.cdf(1, 3, 0.3)\n",
    "print(prob_greater_than_1)"
   ],
   "metadata": {
    "collapsed": false,
    "ExecuteTime": {
     "end_time": "2024-01-10T16:33:06.448709800Z",
     "start_time": "2024-01-10T16:33:06.443175600Z"
    }
   },
   "id": "94dca783edee97fd"
  },
  {
   "cell_type": "code",
   "execution_count": 67,
   "outputs": [],
   "source": [
    "# Code for part 2.4 (continue)\n",
    "\n",
    "# how many sales will be won?\n",
    "from scipy.stats import binom\n",
    "\n",
    "# expected number won with 30% win rate\n",
    "won_30pct = 3 * 0.3\n",
    "\n",
    "# expected number won with 25% win rate\n",
    "won_25pct = 3 * 0.25\n",
    "\n",
    "# expected number won with 35% win rate\n",
    "won_35pct = 3 * 0.35"
   ],
   "metadata": {
    "collapsed": false,
    "ExecuteTime": {
     "end_time": "2024-01-10T16:33:06.459073Z",
     "start_time": "2024-01-10T16:33:06.449689Z"
    }
   },
   "id": "f3c965fb41066fc3"
  },
  {
   "cell_type": "markdown",
   "source": [
    "### CHAPTER 3. More Distributions and the Central Limit Theorem\n",
    "\n",
    "#### Part 3.1 The normal distribution\n",
    "\n",
    "* It is the most important distribution\n",
    "* Its shape is referred to as a \"bell curve\"\n",
    "* Properties:\n",
    "    1. Symmetric\n",
    "    2. Area = 1\n",
    "    3. Curve never hits 0\n",
    "* Described by mean and standard deviation:\n",
    "    * When mean = 0 and standard deviation = 1, it's called **standard normal distribution**\n",
    "    * 68% of the area is within 1 standard deviation of the mean\n",
    "    * 95% of the area is within 2 standard deviations of the mean \n",
    "    * 99.7% of the area is within 3 standard deviations of the mean\n",
    "* Use *'from scipy.stats import norm'* module\n",
    "* Use *'norm.cdf()'* to calculate less than probability\n",
    "* Use *'norm.ppf()'* to calculate the value in a certain less than percentage (inverse of cdf)\n",
    "* Use *'norm.rvs()'* to generate/simulate normal distribution\n"
   ],
   "metadata": {
    "collapsed": false
   },
   "id": "7cf596511d1ae59b"
  },
  {
   "cell_type": "code",
   "execution_count": 68,
   "outputs": [
    {
     "name": "stdout",
     "output_type": "stream",
     "text": [
      "    product   client status   amount  num_users\n",
      "0  ProductF  Current    Won  7389.52       19.0\n",
      "1  ProductC      New    Won  4493.01       43.0\n",
      "2  ProductB      New    Won  5738.09       87.0\n",
      "3  ProductI  Current    Won  2591.24       83.0\n",
      "4  ProductE  Current    Won  6622.97       17.0\n"
     ]
    },
    {
     "data": {
      "text/plain": "<Figure size 640x480 with 1 Axes>",
      "image/png": "[encoded data removed]"
     },
     "metadata": {},
     "output_type": "display_data"
    }
   ],
   "source": [
    "# Code for part 3.1\n",
    "\n",
    "# distribution of Amir's sales\n",
    "import pandas as pd\n",
    "import matplotlib.pyplot as plt\n",
    "\n",
    "# get the data\n",
    "amir_deals = pd.read_csv('7_datasets/amir_deals.csv')\n",
    "print(amir_deals.head())\n",
    "\n",
    "# histogram of amount with 10 bins and show plot\n",
    "amir_deals['amount'].hist(bins=10)\n",
    "plt.show()\n"
   ],
   "metadata": {
    "collapsed": false,
    "ExecuteTime": {
     "end_time": "2024-01-10T16:33:06.591184400Z",
     "start_time": "2024-01-10T16:33:06.456078800Z"
    }
   },
   "id": "89acf219c3ef37d"
  },
  {
   "cell_type": "code",
   "execution_count": 69,
   "outputs": [
    {
     "name": "stdout",
     "output_type": "stream",
     "text": [
      "0.8943502263331446\n",
      "0.9772498680518208\n",
      "0.6826894921370859\n",
      "3651.0204996078364\n"
     ]
    }
   ],
   "source": [
    "# Code for part 3.1 (continue)\n",
    "\n",
    "# probabilities from the normal distribution\n",
    "from scipy.stats import norm\n",
    "\n",
    "# probability of deal < 7500\n",
    "prob_less_7500 = norm.cdf(7500, 5000, 2000)\n",
    "print(prob_less_7500)\n",
    "\n",
    "# probability of deal > 1000\n",
    "prob_over_1000 = 1 - norm.cdf(1000, 5000, 2000)\n",
    "print(prob_over_1000)\n",
    "\n",
    "# probability of deal between 3000 and 7000\n",
    "prob_3000_to_7000 = norm.cdf(7000, 5000, 2000) - norm.cdf(3000, 5000, 2000)\n",
    "print(prob_3000_to_7000)\n",
    "\n",
    "# calculate amount that 25% of deals will be less than\n",
    "pct_25 = norm.ppf(0.25, 5000, 2000)\n",
    "print(pct_25)"
   ],
   "metadata": {
    "collapsed": false,
    "ExecuteTime": {
     "end_time": "2024-01-10T16:33:06.601248600Z",
     "start_time": "2024-01-10T16:33:06.593179400Z"
    }
   },
   "id": "3fbe5b5b38c7ddee"
  },
  {
   "cell_type": "code",
   "execution_count": 70,
   "outputs": [
    {
     "data": {
      "text/plain": "<Figure size 640x480 with 1 Axes>",
      "image/png": "[encoded data removed]"
     },
     "metadata": {},
     "output_type": "display_data"
    }
   ],
   "source": [
    "# Code for part 3.1 (continue)\n",
    "\n",
    "# simulating sales under new market conditions\n",
    "from scipy.stats import norm\n",
    "import matplotlib.pyplot as plt\n",
    "\n",
    "# calculate new average amount\n",
    "new_mean = 5000 * 1.2\n",
    "\n",
    "# calculate new standard deviation\n",
    "new_sd = 2000 * 1.3\n",
    "\n",
    "# simulate 36 sales\n",
    "new_sales = norm.rvs(new_mean, new_sd, 36)\n",
    "\n",
    "# create histogram and plot\n",
    "plt.hist(new_sales)\n",
    "plt.show()"
   ],
   "metadata": {
    "collapsed": false,
    "ExecuteTime": {
     "end_time": "2024-01-10T16:33:06.714214500Z",
     "start_time": "2024-01-10T16:33:06.601248600Z"
    }
   },
   "id": "f152ace896f24ae4"
  },
  {
   "cell_type": "markdown",
   "source": [
    "#### Part 3.2 The central limit theorem\n",
    "\n",
    "* Example: roll the dice 5 times and take the mean, repeat 10 times\n",
    "* The result is a sampling distribution of the sample mean\n",
    "\n",
    "**Central limit theorem:**\n",
    "* The sampling distribution of a statistic becomes closer to the normal distribution as the number of trails increases\n",
    "* Samples should be random and independent\n",
    "* It can be used to estimate characteristics of large population"
   ],
   "metadata": {
    "collapsed": false
   },
   "id": "83bebba7f1b16571"
  },
  {
   "cell_type": "code",
   "execution_count": 71,
   "outputs": [
    {
     "data": {
      "text/plain": "<Figure size 640x480 with 1 Axes>",
      "image/png": "[encoded data removed]"
     },
     "metadata": {},
     "output_type": "display_data"
    },
    {
     "name": "stdout",
     "output_type": "stream",
     "text": [
      "32.0\n"
     ]
    },
    {
     "data": {
      "text/plain": "<Figure size 640x480 with 1 Axes>",
      "image/png": "[encoded data removed]"
     },
     "metadata": {},
     "output_type": "display_data"
    }
   ],
   "source": [
    "# Code for part 3.2\n",
    "\n",
    "# the CLT in action\n",
    "import pandas as pd\n",
    "import numpy as np\n",
    "import matplotlib.pyplot as plt\n",
    "\n",
    "# get the data\n",
    "amir_deals = pd.read_csv('7_datasets/amir_deals.csv')\n",
    "\n",
    "# create a histogram of num_users and show\n",
    "amir_deals['num_users'].hist()\n",
    "plt.show()\n",
    "\n",
    "# set seed to 104\n",
    "np.random.seed(104)\n",
    "\n",
    "# sample 20 num_users with replacement from amir_deals\n",
    "samp_20 = amir_deals['num_users'].sample(20, replace=True)\n",
    "\n",
    "# take mean of samp_20\n",
    "print(np.mean(samp_20))\n",
    "\n",
    "sample_means = []\n",
    "# loop 100 times\n",
    "for i in range(100):\n",
    "    samp_20 = amir_deals['num_users'].sample(20, replace=True)\n",
    "    samp_20_mean = np.mean(samp_20)\n",
    "    sample_means.append(samp_20_mean)\n",
    "    \n",
    "# convert to series and plot histogram\n",
    "sample_means_series = pd.Series(sample_means)\n",
    "sample_means_series.hist()\n",
    "plt.show()"
   ],
   "metadata": {
    "collapsed": false,
    "ExecuteTime": {
     "end_time": "2024-01-10T16:33:06.951471300Z",
     "start_time": "2024-01-10T16:33:06.718203200Z"
    }
   },
   "id": "e4d734f3932e34cd"
  },
  {
   "cell_type": "code",
   "execution_count": 72,
   "outputs": [],
   "source": [
    "# prepare data for all_deals\n",
    "import pandas as pd\n",
    "import numpy as np\n",
    "\n",
    "# product\n",
    "with open('7_datasets/product_2.txt', 'r') as file:\n",
    "    product = file.read()\n",
    "product = product.replace(\"'\", \"\").replace('[', '').replace(']', '').replace(' ', '').replace('\\n', '')\n",
    "product = product.split(',')\n",
    "\n",
    "# num_users\n",
    "num_users = []\n",
    "with open('7_datasets/num_users_2.txt', 'r') as file:\n",
    "    for line in file:\n",
    "        cleaned_line = line.replace('[', '').replace(']', '').replace(',', '')\n",
    "        num_users.append(cleaned_line)\n",
    "num_users = np.loadtxt(num_users)\n",
    "\n",
    "# create dataframe\n",
    "all_deals = pd.DataFrame({'product': product,\n",
    "                          'num_users': num_users})\n",
    "all_deals.to_csv('7_datasets/all_deals.csv', index=False, header=1)\n",
    "    "
   ],
   "metadata": {
    "collapsed": false,
    "ExecuteTime": {
     "end_time": "2024-01-10T16:33:07.029677700Z",
     "start_time": "2024-01-10T16:33:06.954463700Z"
    }
   },
   "id": "8535e052696aaa4b"
  },
  {
   "cell_type": "code",
   "execution_count": 74,
   "outputs": [
    {
     "name": "stdout",
     "output_type": "stream",
     "text": [
      "38.31333333333332\n",
      "37.651685393258425\n"
     ]
    }
   ],
   "source": [
    "# Code for part 3.2 (continue)\n",
    "\n",
    "# the mean of means\n",
    "import pandas as pd\n",
    "import numpy as np\n",
    "\n",
    "# get the data\n",
    "amir_deals = pd.read_csv('7_datasets/amir_deals.csv')\n",
    "all_deals = pd.read_csv('7_datasets/all_deals.csv')\n",
    "\n",
    "# set seed to 321\n",
    "np.random.seed(321)\n",
    "\n",
    "sample_means = []\n",
    "# loop 30 times to take 30 means\n",
    "for i in range(30):\n",
    "    cur_sample = all_deals['num_users'].sample(20, replace=True)\n",
    "    cur_mean = np.mean(cur_sample)\n",
    "    sample_means.append(cur_mean)\n",
    "    \n",
    "print(np.mean(sample_means))\n",
    "print(np.mean(amir_deals['num_users']))\n",
    "\n",
    "# amir's mean is close t overall average!"
   ],
   "metadata": {
    "collapsed": false,
    "ExecuteTime": {
     "end_time": "2024-01-10T16:35:43.723311900Z",
     "start_time": "2024-01-10T16:35:43.559191800Z"
    }
   },
   "id": "8dfbe174259d4d7f"
  },
  {
   "cell_type": "markdown",
   "source": [],
   "metadata": {
    "collapsed": false
   },
   "id": "b55c967159f69ab6"
  },
  {
   "cell_type": "markdown",
   "source": [
    "#### Part 3.3 The Poisson distribution\n",
    "\n",
    "* Poisson processes: events appear to happen at a certain rate, but completely at random\n",
    "* Examples: number of animals adopted from an animal shelter per week\n",
    "* Poisson distribution describes the probability of some # of events occuring over a fixed period of time\n",
    "* It is described by $\\lambda$:\n",
    "    * $\\lambda$ = average number of events per time interval\n",
    "* Use *'from scipy.stats import poisson'* module\n",
    "* Use *'poisson.pmf()'* to get probability of a certain number\n",
    "* Use *'poisson.cdf()'* to get probability of less than a certain number\n",
    "* Use *'poisson.rvs()'* to generate/simulate a Poisson distribution"
   ],
   "metadata": {
    "collapsed": false
   },
   "id": "2fd412ee8a586c69"
  },
  {
   "cell_type": "code",
   "execution_count": null,
   "outputs": [],
   "source": [
    "# Code for part 3.3\n",
    "\n",
    "# tracking lead responses\n",
    "from scipy.stats import poisson\n",
    "\n",
    "# probability of 5 responses of average 4\n",
    "prob_5 = poisson.pmf(5, 4)\n",
    "print(prob_5)\n",
    "\n",
    "# probability of 5 responses of average 5.5\n",
    "prob_coworker = poisson.pmf(5, 5.5)\n",
    "print(prob_coworker)\n",
    "\n",
    "# probability of 2 or fewer responses of average 4\n",
    "prob_2_or_less = poisson.cdf(2, 4)\n",
    "print(prob_2_or_less)\n",
    "\n",
    "# probability of > 10 responses\n",
    "prob_over_10  = 1 - poisson.cdf(10, 4)\n",
    "print(prob_over_10)"
   ],
   "metadata": {
    "collapsed": false
   },
   "id": "5f89714811040ae6"
  },
  {
   "cell_type": "markdown",
   "source": [
    "#### Part 3.4 More probability distributions\n",
    "\n",
    "* "
   ],
   "metadata": {
    "collapsed": false
   },
   "id": "ae34242e0b12f7a8"
  },
  {
   "cell_type": "code",
   "execution_count": null,
   "outputs": [],
   "source": [
    "\n"
   ],
   "metadata": {
    "collapsed": false
   },
   "id": "7444c8b0ed388971"
  }
 ],
 "metadata": {
  "kernelspec": {
   "display_name": "Python 3",
   "language": "python",
   "name": "python3"
  },
  "language_info": {
   "codemirror_mode": {
    "name": "ipython",
    "version": 2
   },
   "file_extension": ".py",
   "mimetype": "text/x-python",
   "name": "python",
   "nbconvert_exporter": "python",
   "pygments_lexer": "ipython2",
   "version": "2.7.6"
  }
 },
 "nbformat": 4,
 "nbformat_minor": 5
}
