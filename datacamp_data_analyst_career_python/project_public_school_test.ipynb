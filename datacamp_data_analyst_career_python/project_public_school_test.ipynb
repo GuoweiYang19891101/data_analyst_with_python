{
 "cells": [
  {
   "cell_type": "markdown",
   "source": [
    "Every year, American high school students take SATs, which are standardized tests intended to measure literacy, numeracy, and writing skills. There are three sections—reading, math, and writing, each with a maximum score of 800 points. These tests are extremely important for students and colleges, as they play a pivotal role in the admissions process.\n",
    "\n",
    "Analyzing the performance of schools is important for a variety of stakeholders, including policy and education professionals, researchers, government, and even parents considering which school their children should attend.\n",
    "\n",
    "You have been provided with a dataset called schools.csv, which is previewed below.\n",
    "\n",
    "You have been tasked with answering three key questions about New York City (NYC) public school SAT performance."
   ],
   "metadata": {
    "collapsed": false
   },
   "id": "aa80b6118a4fc786"
  },
  {
   "cell_type": "code",
   "execution_count": 2,
   "outputs": [
    {
     "data": {
      "text/plain": "                                         school_name    borough building_code  \\\n0  New Explorations into Science, Technology and ...  Manhattan          M022   \n1                               Essex Street Academy  Manhattan          M445   \n2                       Lower Manhattan Arts Academy  Manhattan          M445   \n3    High School for Dual Language and Asian Studies  Manhattan          M445   \n4      Henry Street School for International Studies  Manhattan          M056   \n\n   average_math  average_reading  average_writing  percent_tested  \n0           657              601              601             NaN  \n1           395              411              387            78.9  \n2           418              428              415            65.1  \n3           613              453              463            95.9  \n4           410              406              381            59.7  ",
      "text/html": "<div>\n<style scoped>\n    .dataframe tbody tr th:only-of-type {\n        vertical-align: middle;\n    }\n\n    .dataframe tbody tr th {\n        vertical-align: top;\n    }\n\n    .dataframe thead th {\n        text-align: right;\n    }\n</style>\n<table border=\"1\" class=\"dataframe\">\n  <thead>\n    <tr style=\"text-align: right;\">\n      <th></th>\n      <th>school_name</th>\n      <th>borough</th>\n      <th>building_code</th>\n      <th>average_math</th>\n      <th>average_reading</th>\n      <th>average_writing</th>\n      <th>percent_tested</th>\n    </tr>\n  </thead>\n  <tbody>\n    <tr>\n      <th>0</th>\n      <td>New Explorations into Science, Technology and ...</td>\n      <td>Manhattan</td>\n      <td>M022</td>\n      <td>657</td>\n      <td>601</td>\n      <td>601</td>\n      <td>NaN</td>\n    </tr>\n    <tr>\n      <th>1</th>\n      <td>Essex Street Academy</td>\n      <td>Manhattan</td>\n      <td>M445</td>\n      <td>395</td>\n      <td>411</td>\n      <td>387</td>\n      <td>78.9</td>\n    </tr>\n    <tr>\n      <th>2</th>\n      <td>Lower Manhattan Arts Academy</td>\n      <td>Manhattan</td>\n      <td>M445</td>\n      <td>418</td>\n      <td>428</td>\n      <td>415</td>\n      <td>65.1</td>\n    </tr>\n    <tr>\n      <th>3</th>\n      <td>High School for Dual Language and Asian Studies</td>\n      <td>Manhattan</td>\n      <td>M445</td>\n      <td>613</td>\n      <td>453</td>\n      <td>463</td>\n      <td>95.9</td>\n    </tr>\n    <tr>\n      <th>4</th>\n      <td>Henry Street School for International Studies</td>\n      <td>Manhattan</td>\n      <td>M056</td>\n      <td>410</td>\n      <td>406</td>\n      <td>381</td>\n      <td>59.7</td>\n    </tr>\n  </tbody>\n</table>\n</div>"
     },
     "execution_count": 2,
     "metadata": {},
     "output_type": "execute_result"
    }
   ],
   "source": [
    "# load modules\n",
    "import pandas as pd\n",
    "\n",
    "# load data\n",
    "schools = pd.read_csv('schools.csv')\n",
    "schools.head()"
   ],
   "metadata": {
    "collapsed": false,
    "ExecuteTime": {
     "end_time": "2023-12-21T16:06:17.222985Z",
     "start_time": "2023-12-21T16:06:16.172421800Z"
    }
   },
   "id": "e06d6a7b225e7086"
  },
  {
   "cell_type": "code",
   "execution_count": 3,
   "outputs": [
    {
     "data": {
      "text/plain": "                                           school_name  average_math\n88                              Stuyvesant High School           754\n170                       Bronx High School of Science           714\n93                 Staten Island Technical High School           711\n365  Queens High School for the Sciences at York Co...           701\n68   High School for Mathematics, Science, and Engi...           683\n280                     Brooklyn Technical High School           682\n333                        Townsend Harris High School           680\n174  High School of American Studies at Lehman College           669\n0    New Explorations into Science, Technology and ...           657\n45                       Eleanor Roosevelt High School           641",
      "text/html": "<div>\n<style scoped>\n    .dataframe tbody tr th:only-of-type {\n        vertical-align: middle;\n    }\n\n    .dataframe tbody tr th {\n        vertical-align: top;\n    }\n\n    .dataframe thead th {\n        text-align: right;\n    }\n</style>\n<table border=\"1\" class=\"dataframe\">\n  <thead>\n    <tr style=\"text-align: right;\">\n      <th></th>\n      <th>school_name</th>\n      <th>average_math</th>\n    </tr>\n  </thead>\n  <tbody>\n    <tr>\n      <th>88</th>\n      <td>Stuyvesant High School</td>\n      <td>754</td>\n    </tr>\n    <tr>\n      <th>170</th>\n      <td>Bronx High School of Science</td>\n      <td>714</td>\n    </tr>\n    <tr>\n      <th>93</th>\n      <td>Staten Island Technical High School</td>\n      <td>711</td>\n    </tr>\n    <tr>\n      <th>365</th>\n      <td>Queens High School for the Sciences at York Co...</td>\n      <td>701</td>\n    </tr>\n    <tr>\n      <th>68</th>\n      <td>High School for Mathematics, Science, and Engi...</td>\n      <td>683</td>\n    </tr>\n    <tr>\n      <th>280</th>\n      <td>Brooklyn Technical High School</td>\n      <td>682</td>\n    </tr>\n    <tr>\n      <th>333</th>\n      <td>Townsend Harris High School</td>\n      <td>680</td>\n    </tr>\n    <tr>\n      <th>174</th>\n      <td>High School of American Studies at Lehman College</td>\n      <td>669</td>\n    </tr>\n    <tr>\n      <th>0</th>\n      <td>New Explorations into Science, Technology and ...</td>\n      <td>657</td>\n    </tr>\n    <tr>\n      <th>45</th>\n      <td>Eleanor Roosevelt High School</td>\n      <td>641</td>\n    </tr>\n  </tbody>\n</table>\n</div>"
     },
     "execution_count": 3,
     "metadata": {},
     "output_type": "execute_result"
    }
   ],
   "source": [
    "# best math schools\n",
    "mask = schools['average_math'] >= 0.8 * 800\n",
    "best_math_schools = schools[mask][['school_name', 'average_math']].sort_values(by='average_math', ascending=False)\n",
    "best_math_schools.head(10)"
   ],
   "metadata": {
    "collapsed": false,
    "ExecuteTime": {
     "end_time": "2023-12-21T16:06:17.242393200Z",
     "start_time": "2023-12-21T16:06:17.221988700Z"
    }
   },
   "id": "d0b432badf3bd7af"
  },
  {
   "cell_type": "code",
   "execution_count": 4,
   "outputs": [
    {
     "data": {
      "text/plain": "                                           school_name  total_SAT\n88                              Stuyvesant High School       2144\n170                       Bronx High School of Science       2041\n93                 Staten Island Technical High School       2041\n174  High School of American Studies at Lehman College       2013\n333                        Townsend Harris High School       1981\n365  Queens High School for the Sciences at York Co...       1947\n5                       Bard High School Early College       1914\n280                     Brooklyn Technical High School       1896\n45                       Eleanor Roosevelt High School       1889\n68   High School for Mathematics, Science, and Engi...       1889",
      "text/html": "<div>\n<style scoped>\n    .dataframe tbody tr th:only-of-type {\n        vertical-align: middle;\n    }\n\n    .dataframe tbody tr th {\n        vertical-align: top;\n    }\n\n    .dataframe thead th {\n        text-align: right;\n    }\n</style>\n<table border=\"1\" class=\"dataframe\">\n  <thead>\n    <tr style=\"text-align: right;\">\n      <th></th>\n      <th>school_name</th>\n      <th>total_SAT</th>\n    </tr>\n  </thead>\n  <tbody>\n    <tr>\n      <th>88</th>\n      <td>Stuyvesant High School</td>\n      <td>2144</td>\n    </tr>\n    <tr>\n      <th>170</th>\n      <td>Bronx High School of Science</td>\n      <td>2041</td>\n    </tr>\n    <tr>\n      <th>93</th>\n      <td>Staten Island Technical High School</td>\n      <td>2041</td>\n    </tr>\n    <tr>\n      <th>174</th>\n      <td>High School of American Studies at Lehman College</td>\n      <td>2013</td>\n    </tr>\n    <tr>\n      <th>333</th>\n      <td>Townsend Harris High School</td>\n      <td>1981</td>\n    </tr>\n    <tr>\n      <th>365</th>\n      <td>Queens High School for the Sciences at York Co...</td>\n      <td>1947</td>\n    </tr>\n    <tr>\n      <th>5</th>\n      <td>Bard High School Early College</td>\n      <td>1914</td>\n    </tr>\n    <tr>\n      <th>280</th>\n      <td>Brooklyn Technical High School</td>\n      <td>1896</td>\n    </tr>\n    <tr>\n      <th>45</th>\n      <td>Eleanor Roosevelt High School</td>\n      <td>1889</td>\n    </tr>\n    <tr>\n      <th>68</th>\n      <td>High School for Mathematics, Science, and Engi...</td>\n      <td>1889</td>\n    </tr>\n  </tbody>\n</table>\n</div>"
     },
     "execution_count": 4,
     "metadata": {},
     "output_type": "execute_result"
    }
   ],
   "source": [
    "# top 10 schools\n",
    "schools['total_SAT'] = schools['average_math'] + schools['average_reading'] + schools['average_writing']\n",
    "top_10_schools = schools[['school_name', 'total_SAT']].sort_values(by='total_SAT', ascending=False)\n",
    "\n",
    "top_10_schools.head(10)"
   ],
   "metadata": {
    "collapsed": false,
    "ExecuteTime": {
     "end_time": "2023-12-21T16:06:17.273671800Z",
     "start_time": "2023-12-21T16:06:17.241395200Z"
    }
   },
   "id": "322c9378e9dd6536"
  },
  {
   "cell_type": "code",
   "execution_count": 5,
   "outputs": [
    {
     "data": {
      "text/plain": "           num_schools  average_SAT  std_SAT\nborough                                     \nManhattan           89      1340.13   230.29",
      "text/html": "<div>\n<style scoped>\n    .dataframe tbody tr th:only-of-type {\n        vertical-align: middle;\n    }\n\n    .dataframe tbody tr th {\n        vertical-align: top;\n    }\n\n    .dataframe thead th {\n        text-align: right;\n    }\n</style>\n<table border=\"1\" class=\"dataframe\">\n  <thead>\n    <tr style=\"text-align: right;\">\n      <th></th>\n      <th>num_schools</th>\n      <th>average_SAT</th>\n      <th>std_SAT</th>\n    </tr>\n    <tr>\n      <th>borough</th>\n      <th></th>\n      <th></th>\n      <th></th>\n    </tr>\n  </thead>\n  <tbody>\n    <tr>\n      <th>Manhattan</th>\n      <td>89</td>\n      <td>1340.13</td>\n      <td>230.29</td>\n    </tr>\n  </tbody>\n</table>\n</div>"
     },
     "execution_count": 5,
     "metadata": {},
     "output_type": "execute_result"
    }
   ],
   "source": [
    "# largest standard deviation borough\n",
    "largest_std_dev = pd.pivot_table(schools, values=['school_name','total_SAT'], index='borough', aggfunc={'school_name':'count', 'total_SAT': ['mean', 'std']})\n",
    "# format a little bit\n",
    "largest_std_dev.columns = ['num_schools', 'average_SAT', 'std_SAT']\n",
    "largest_std_dev['average_SAT'], largest_std_dev['std_SAT'] = largest_std_dev['average_SAT'].round(2), largest_std_dev['std_SAT'].round(2)\n",
    "largest_std_dev = largest_std_dev[largest_std_dev['std_SAT'] == max(largest_std_dev['std_SAT'])]\n",
    "# largest_std_dev = largest_std_dev.sort_values(by='std_SAT', ascending=False)\n",
    "\n",
    "largest_std_dev.head()"
   ],
   "metadata": {
    "collapsed": false,
    "ExecuteTime": {
     "end_time": "2023-12-21T16:06:17.377815200Z",
     "start_time": "2023-12-21T16:06:17.257863100Z"
    }
   },
   "id": "474ecda1166ffc71"
  }
 ],
 "metadata": {
  "kernelspec": {
   "display_name": "Python 3",
   "language": "python",
   "name": "python3"
  },
  "language_info": {
   "codemirror_mode": {
    "name": "ipython",
    "version": 2
   },
   "file_extension": ".py",
   "mimetype": "text/x-python",
   "name": "python",
   "nbconvert_exporter": "python",
   "pygments_lexer": "ipython2",
   "version": "2.7.6"
  }
 },
 "nbformat": 4,
 "nbformat_minor": 5
}
